{
  "nbformat": 4,
  "nbformat_minor": 0,
  "metadata": {
    "colab": {
      "provenance": []
    },
    "kernelspec": {
      "name": "python3",
      "display_name": "Python 3"
    },
    "language_info": {
      "name": "python"
    }
  },
  "cells": [
    {
      "cell_type": "code",
      "execution_count": null,
      "metadata": {
        "colab": {
          "base_uri": "https://localhost:8080/"
        },
        "id": "90r1nMqz41LO",
        "outputId": "5b385723-0aa3-4b74-ee4d-3dd47fdc9f04"
      },
      "outputs": [
        {
          "output_type": "stream",
          "name": "stdout",
          "text": [
            "Collecting metar\n",
            "  Downloading metar-1.11.0-py3-none-any.whl (201 kB)\n",
            "\u001b[2K     \u001b[90m━━━━━━━━━━━━━━━━━━━━━━━━━━━━━━━━━━━━━━━━\u001b[0m \u001b[32m201.4/201.4 kB\u001b[0m \u001b[31m3.5 MB/s\u001b[0m eta \u001b[36m0:00:00\u001b[0m\n",
            "\u001b[?25hInstalling collected packages: metar\n",
            "Successfully installed metar-1.11.0\n"
          ]
        }
      ],
      "source": [
        "!pip install metar"
      ]
    },
    {
      "cell_type": "code",
      "source": [
        "from metar import Metar as mt\n",
        "import pandas as pd\n",
        "import matplotlib.pyplot as plt\n",
        "import numpy as np\n",
        "from datetime import datetime\n",
        "import re\n",
        "import seaborn as sns\n",
        "from scipy import stats\n",
        "import io\n",
        "\n",
        "from sklearn.compose import make_column_selector, ColumnTransformer\n",
        "from sklearn.preprocessing import OneHotEncoder, LabelEncoder, OrdinalEncoder, MinMaxScaler, StandardScaler\n",
        "from sklearn.compose import make_column_selector, ColumnTransformer\n",
        "from sklearn.model_selection import train_test_split\n",
        "from sklearn.neighbors import KNeighborsClassifier\n",
        "from sklearn.metrics import accuracy_score, confusion_matrix, classification_report\n",
        "from sklearn.model_selection import GridSearchCV"
      ],
      "metadata": {
        "id": "HYARhMlY5ufe"
      },
      "execution_count": null,
      "outputs": []
    },
    {
      "cell_type": "code",
      "source": [
        "raw = pd.read_csv('public.csv', on_bad_lines='warn')"
      ],
      "metadata": {
        "id": "C-btFjuY_N8w"
      },
      "execution_count": null,
      "outputs": []
    },
    {
      "cell_type": "code",
      "source": [
        "raw.head(3)"
      ],
      "metadata": {
        "colab": {
          "base_uri": "https://localhost:8080/",
          "height": 476
        },
        "id": "IhEF-XQ4X6_2",
        "outputId": "093a35e7-00a7-4eb2-bb28-5219c98d0d50"
      },
      "execution_count": null,
      "outputs": [
        {
          "output_type": "execute_result",
          "data": {
            "text/plain": [
              "                           flightid              hora_ref origem destino  \\\n",
              "0  504a62621cd231d6ab67e674ce538cd3  2022-06-01T01:00:00Z   SBCF    SBFL   \n",
              "1  b0fd0f83644625ecc21f5261e8e5e347  2022-06-01T01:00:00Z   SBPA    SBFL   \n",
              "2  1210f0ca07ddca00d09a3e02d3b100d8  2022-06-01T01:00:00Z   SBSP    SBCF   \n",
              "\n",
              "                                    url_img_satelite metaf  \\\n",
              "0  http://satelite.cptec.inpe.br/repositoriogoes/...   NaN   \n",
              "1  http://satelite.cptec.inpe.br/repositoriogoes/...   NaN   \n",
              "2  http://satelite.cptec.inpe.br/repositoriogoes/...   NaN   \n",
              "\n",
              "                                               metar  prev_troca_cabeceira  \\\n",
              "0  METAR SBFL 010000Z 17009KT 140V200 9999 BKN030...                     0   \n",
              "1  METAR SBFL 010000Z 17009KT 140V200 9999 BKN030...                     0   \n",
              "2      METAR SBCF 010000Z 12006KT CAVOK 21/14 Q1018=                     0   \n",
              "\n",
              "   troca_cabeceira_hora_anterior  espera  \n",
              "0                              1     0.0  \n",
              "1                              1     0.0  \n",
              "2                              0     0.0  "
            ],
            "text/html": [
              "\n",
              "  <div id=\"df-3986a745-3a16-4932-b45c-149813691733\" class=\"colab-df-container\">\n",
              "    <div>\n",
              "<style scoped>\n",
              "    .dataframe tbody tr th:only-of-type {\n",
              "        vertical-align: middle;\n",
              "    }\n",
              "\n",
              "    .dataframe tbody tr th {\n",
              "        vertical-align: top;\n",
              "    }\n",
              "\n",
              "    .dataframe thead th {\n",
              "        text-align: right;\n",
              "    }\n",
              "</style>\n",
              "<table border=\"1\" class=\"dataframe\">\n",
              "  <thead>\n",
              "    <tr style=\"text-align: right;\">\n",
              "      <th></th>\n",
              "      <th>flightid</th>\n",
              "      <th>hora_ref</th>\n",
              "      <th>origem</th>\n",
              "      <th>destino</th>\n",
              "      <th>url_img_satelite</th>\n",
              "      <th>metaf</th>\n",
              "      <th>metar</th>\n",
              "      <th>prev_troca_cabeceira</th>\n",
              "      <th>troca_cabeceira_hora_anterior</th>\n",
              "      <th>espera</th>\n",
              "    </tr>\n",
              "  </thead>\n",
              "  <tbody>\n",
              "    <tr>\n",
              "      <th>0</th>\n",
              "      <td>504a62621cd231d6ab67e674ce538cd3</td>\n",
              "      <td>2022-06-01T01:00:00Z</td>\n",
              "      <td>SBCF</td>\n",
              "      <td>SBFL</td>\n",
              "      <td>http://satelite.cptec.inpe.br/repositoriogoes/...</td>\n",
              "      <td>NaN</td>\n",
              "      <td>METAR SBFL 010000Z 17009KT 140V200 9999 BKN030...</td>\n",
              "      <td>0</td>\n",
              "      <td>1</td>\n",
              "      <td>0.0</td>\n",
              "    </tr>\n",
              "    <tr>\n",
              "      <th>1</th>\n",
              "      <td>b0fd0f83644625ecc21f5261e8e5e347</td>\n",
              "      <td>2022-06-01T01:00:00Z</td>\n",
              "      <td>SBPA</td>\n",
              "      <td>SBFL</td>\n",
              "      <td>http://satelite.cptec.inpe.br/repositoriogoes/...</td>\n",
              "      <td>NaN</td>\n",
              "      <td>METAR SBFL 010000Z 17009KT 140V200 9999 BKN030...</td>\n",
              "      <td>0</td>\n",
              "      <td>1</td>\n",
              "      <td>0.0</td>\n",
              "    </tr>\n",
              "    <tr>\n",
              "      <th>2</th>\n",
              "      <td>1210f0ca07ddca00d09a3e02d3b100d8</td>\n",
              "      <td>2022-06-01T01:00:00Z</td>\n",
              "      <td>SBSP</td>\n",
              "      <td>SBCF</td>\n",
              "      <td>http://satelite.cptec.inpe.br/repositoriogoes/...</td>\n",
              "      <td>NaN</td>\n",
              "      <td>METAR SBCF 010000Z 12006KT CAVOK 21/14 Q1018=</td>\n",
              "      <td>0</td>\n",
              "      <td>0</td>\n",
              "      <td>0.0</td>\n",
              "    </tr>\n",
              "  </tbody>\n",
              "</table>\n",
              "</div>\n",
              "    <div class=\"colab-df-buttons\">\n",
              "\n",
              "  <div class=\"colab-df-container\">\n",
              "    <button class=\"colab-df-convert\" onclick=\"convertToInteractive('df-3986a745-3a16-4932-b45c-149813691733')\"\n",
              "            title=\"Convert this dataframe to an interactive table.\"\n",
              "            style=\"display:none;\">\n",
              "\n",
              "  <svg xmlns=\"http://www.w3.org/2000/svg\" height=\"24px\" viewBox=\"0 -960 960 960\">\n",
              "    <path d=\"M120-120v-720h720v720H120Zm60-500h600v-160H180v160Zm220 220h160v-160H400v160Zm0 220h160v-160H400v160ZM180-400h160v-160H180v160Zm440 0h160v-160H620v160ZM180-180h160v-160H180v160Zm440 0h160v-160H620v160Z\"/>\n",
              "  </svg>\n",
              "    </button>\n",
              "\n",
              "  <style>\n",
              "    .colab-df-container {\n",
              "      display:flex;\n",
              "      gap: 12px;\n",
              "    }\n",
              "\n",
              "    .colab-df-convert {\n",
              "      background-color: #E8F0FE;\n",
              "      border: none;\n",
              "      border-radius: 50%;\n",
              "      cursor: pointer;\n",
              "      display: none;\n",
              "      fill: #1967D2;\n",
              "      height: 32px;\n",
              "      padding: 0 0 0 0;\n",
              "      width: 32px;\n",
              "    }\n",
              "\n",
              "    .colab-df-convert:hover {\n",
              "      background-color: #E2EBFA;\n",
              "      box-shadow: 0px 1px 2px rgba(60, 64, 67, 0.3), 0px 1px 3px 1px rgba(60, 64, 67, 0.15);\n",
              "      fill: #174EA6;\n",
              "    }\n",
              "\n",
              "    .colab-df-buttons div {\n",
              "      margin-bottom: 4px;\n",
              "    }\n",
              "\n",
              "    [theme=dark] .colab-df-convert {\n",
              "      background-color: #3B4455;\n",
              "      fill: #D2E3FC;\n",
              "    }\n",
              "\n",
              "    [theme=dark] .colab-df-convert:hover {\n",
              "      background-color: #434B5C;\n",
              "      box-shadow: 0px 1px 3px 1px rgba(0, 0, 0, 0.15);\n",
              "      filter: drop-shadow(0px 1px 2px rgba(0, 0, 0, 0.3));\n",
              "      fill: #FFFFFF;\n",
              "    }\n",
              "  </style>\n",
              "\n",
              "    <script>\n",
              "      const buttonEl =\n",
              "        document.querySelector('#df-3986a745-3a16-4932-b45c-149813691733 button.colab-df-convert');\n",
              "      buttonEl.style.display =\n",
              "        google.colab.kernel.accessAllowed ? 'block' : 'none';\n",
              "\n",
              "      async function convertToInteractive(key) {\n",
              "        const element = document.querySelector('#df-3986a745-3a16-4932-b45c-149813691733');\n",
              "        const dataTable =\n",
              "          await google.colab.kernel.invokeFunction('convertToInteractive',\n",
              "                                                    [key], {});\n",
              "        if (!dataTable) return;\n",
              "\n",
              "        const docLinkHtml = 'Like what you see? Visit the ' +\n",
              "          '<a target=\"_blank\" href=https://colab.research.google.com/notebooks/data_table.ipynb>data table notebook</a>'\n",
              "          + ' to learn more about interactive tables.';\n",
              "        element.innerHTML = '';\n",
              "        dataTable['output_type'] = 'display_data';\n",
              "        await google.colab.output.renderOutput(dataTable, element);\n",
              "        const docLink = document.createElement('div');\n",
              "        docLink.innerHTML = docLinkHtml;\n",
              "        element.appendChild(docLink);\n",
              "      }\n",
              "    </script>\n",
              "  </div>\n",
              "\n",
              "\n",
              "<div id=\"df-d676ebd0-efa6-4294-8678-1f48b979ef7c\">\n",
              "  <button class=\"colab-df-quickchart\" onclick=\"quickchart('df-d676ebd0-efa6-4294-8678-1f48b979ef7c')\"\n",
              "            title=\"Suggest charts\"\n",
              "            style=\"display:none;\">\n",
              "\n",
              "<svg xmlns=\"http://www.w3.org/2000/svg\" height=\"24px\"viewBox=\"0 0 24 24\"\n",
              "     width=\"24px\">\n",
              "    <g>\n",
              "        <path d=\"M19 3H5c-1.1 0-2 .9-2 2v14c0 1.1.9 2 2 2h14c1.1 0 2-.9 2-2V5c0-1.1-.9-2-2-2zM9 17H7v-7h2v7zm4 0h-2V7h2v10zm4 0h-2v-4h2v4z\"/>\n",
              "    </g>\n",
              "</svg>\n",
              "  </button>\n",
              "\n",
              "<style>\n",
              "  .colab-df-quickchart {\n",
              "      --bg-color: #E8F0FE;\n",
              "      --fill-color: #1967D2;\n",
              "      --hover-bg-color: #E2EBFA;\n",
              "      --hover-fill-color: #174EA6;\n",
              "      --disabled-fill-color: #AAA;\n",
              "      --disabled-bg-color: #DDD;\n",
              "  }\n",
              "\n",
              "  [theme=dark] .colab-df-quickchart {\n",
              "      --bg-color: #3B4455;\n",
              "      --fill-color: #D2E3FC;\n",
              "      --hover-bg-color: #434B5C;\n",
              "      --hover-fill-color: #FFFFFF;\n",
              "      --disabled-bg-color: #3B4455;\n",
              "      --disabled-fill-color: #666;\n",
              "  }\n",
              "\n",
              "  .colab-df-quickchart {\n",
              "    background-color: var(--bg-color);\n",
              "    border: none;\n",
              "    border-radius: 50%;\n",
              "    cursor: pointer;\n",
              "    display: none;\n",
              "    fill: var(--fill-color);\n",
              "    height: 32px;\n",
              "    padding: 0;\n",
              "    width: 32px;\n",
              "  }\n",
              "\n",
              "  .colab-df-quickchart:hover {\n",
              "    background-color: var(--hover-bg-color);\n",
              "    box-shadow: 0 1px 2px rgba(60, 64, 67, 0.3), 0 1px 3px 1px rgba(60, 64, 67, 0.15);\n",
              "    fill: var(--button-hover-fill-color);\n",
              "  }\n",
              "\n",
              "  .colab-df-quickchart-complete:disabled,\n",
              "  .colab-df-quickchart-complete:disabled:hover {\n",
              "    background-color: var(--disabled-bg-color);\n",
              "    fill: var(--disabled-fill-color);\n",
              "    box-shadow: none;\n",
              "  }\n",
              "\n",
              "  .colab-df-spinner {\n",
              "    border: 2px solid var(--fill-color);\n",
              "    border-color: transparent;\n",
              "    border-bottom-color: var(--fill-color);\n",
              "    animation:\n",
              "      spin 1s steps(1) infinite;\n",
              "  }\n",
              "\n",
              "  @keyframes spin {\n",
              "    0% {\n",
              "      border-color: transparent;\n",
              "      border-bottom-color: var(--fill-color);\n",
              "      border-left-color: var(--fill-color);\n",
              "    }\n",
              "    20% {\n",
              "      border-color: transparent;\n",
              "      border-left-color: var(--fill-color);\n",
              "      border-top-color: var(--fill-color);\n",
              "    }\n",
              "    30% {\n",
              "      border-color: transparent;\n",
              "      border-left-color: var(--fill-color);\n",
              "      border-top-color: var(--fill-color);\n",
              "      border-right-color: var(--fill-color);\n",
              "    }\n",
              "    40% {\n",
              "      border-color: transparent;\n",
              "      border-right-color: var(--fill-color);\n",
              "      border-top-color: var(--fill-color);\n",
              "    }\n",
              "    60% {\n",
              "      border-color: transparent;\n",
              "      border-right-color: var(--fill-color);\n",
              "    }\n",
              "    80% {\n",
              "      border-color: transparent;\n",
              "      border-right-color: var(--fill-color);\n",
              "      border-bottom-color: var(--fill-color);\n",
              "    }\n",
              "    90% {\n",
              "      border-color: transparent;\n",
              "      border-bottom-color: var(--fill-color);\n",
              "    }\n",
              "  }\n",
              "</style>\n",
              "\n",
              "  <script>\n",
              "    async function quickchart(key) {\n",
              "      const quickchartButtonEl =\n",
              "        document.querySelector('#' + key + ' button');\n",
              "      quickchartButtonEl.disabled = true;  // To prevent multiple clicks.\n",
              "      quickchartButtonEl.classList.add('colab-df-spinner');\n",
              "      try {\n",
              "        const charts = await google.colab.kernel.invokeFunction(\n",
              "            'suggestCharts', [key], {});\n",
              "      } catch (error) {\n",
              "        console.error('Error during call to suggestCharts:', error);\n",
              "      }\n",
              "      quickchartButtonEl.classList.remove('colab-df-spinner');\n",
              "      quickchartButtonEl.classList.add('colab-df-quickchart-complete');\n",
              "    }\n",
              "    (() => {\n",
              "      let quickchartButtonEl =\n",
              "        document.querySelector('#df-d676ebd0-efa6-4294-8678-1f48b979ef7c button');\n",
              "      quickchartButtonEl.style.display =\n",
              "        google.colab.kernel.accessAllowed ? 'block' : 'none';\n",
              "    })();\n",
              "  </script>\n",
              "</div>\n",
              "\n",
              "    </div>\n",
              "  </div>\n"
            ],
            "application/vnd.google.colaboratory.intrinsic+json": {
              "type": "dataframe",
              "variable_name": "raw"
            }
          },
          "metadata": {},
          "execution_count": 4
        }
      ]
    },
    {
      "cell_type": "code",
      "source": [
        "print(len(raw))"
      ],
      "metadata": {
        "colab": {
          "base_uri": "https://localhost:8080/"
        },
        "id": "IG9Re5ROIOu3",
        "outputId": "d6d712ca-4dce-447c-a644-579767d18b62"
      },
      "execution_count": null,
      "outputs": [
        {
          "output_type": "stream",
          "name": "stdout",
          "text": [
            "302399\n"
          ]
        }
      ]
    },
    {
      "cell_type": "markdown",
      "source": [
        "# **tratando nulos**"
      ],
      "metadata": {
        "id": "qz-qRAlch7f2"
      }
    },
    {
      "cell_type": "code",
      "source": [
        "raw.info()"
      ],
      "metadata": {
        "colab": {
          "base_uri": "https://localhost:8080/"
        },
        "id": "TFbC4BzkhaXO",
        "outputId": "34385700-44e0-4710-f699-00584f20c213"
      },
      "execution_count": null,
      "outputs": [
        {
          "output_type": "stream",
          "name": "stdout",
          "text": [
            "<class 'pandas.core.frame.DataFrame'>\n",
            "RangeIndex: 302399 entries, 0 to 302398\n",
            "Data columns (total 10 columns):\n",
            " #   Column                         Non-Null Count   Dtype  \n",
            "---  ------                         --------------   -----  \n",
            " 0   flightid                       302399 non-null  object \n",
            " 1   hora_ref                       302399 non-null  object \n",
            " 2   origem                         302399 non-null  object \n",
            " 3   destino                        302399 non-null  object \n",
            " 4   url_img_satelite               298666 non-null  object \n",
            " 5   metaf                          155737 non-null  object \n",
            " 6   metar                          300770 non-null  object \n",
            " 7   prev_troca_cabeceira           302399 non-null  int64  \n",
            " 8   troca_cabeceira_hora_anterior  302399 non-null  int64  \n",
            " 9   espera                         211679 non-null  float64\n",
            "dtypes: float64(1), int64(2), object(7)\n",
            "memory usage: 23.1+ MB\n"
          ]
        }
      ]
    },
    {
      "cell_type": "code",
      "source": [
        "# # prompt: criar for para ler cada linha de um dataframe chamado raw\n",
        "# x = 0\n",
        "# for index, row in raw.iterrows():\n",
        "#   # Your code here\n",
        "#   if type(row['metaf']) == float: x+=1\n",
        "#   # print(row['metaf'], row['metar'])\n",
        "\n",
        "# print(x)\n",
        "# #quase metade são nulos"
      ],
      "metadata": {
        "colab": {
          "base_uri": "https://localhost:8080/"
        },
        "id": "swW429ghLCV7",
        "outputId": "3ba29866-8bc5-42e1-cb74-0dae4900ff5d"
      },
      "execution_count": null,
      "outputs": [
        {
          "output_type": "stream",
          "name": "stdout",
          "text": [
            "146662\n"
          ]
        }
      ]
    },
    {
      "cell_type": "code",
      "source": [
        "raw2 = raw.dropna()\n",
        "print(raw2.isnull().sum())\n",
        "print('-'*70)\n",
        "print(raw2.info())"
      ],
      "metadata": {
        "colab": {
          "base_uri": "https://localhost:8080/"
        },
        "id": "eOZZW4uciF_M",
        "outputId": "40d2b528-b769-4cae-e190-e2aef3aab342"
      },
      "execution_count": null,
      "outputs": [
        {
          "output_type": "stream",
          "name": "stdout",
          "text": [
            "flightid                         0\n",
            "hora_ref                         0\n",
            "origem                           0\n",
            "destino                          0\n",
            "url_img_satelite                 0\n",
            "metaf                            0\n",
            "metar                            0\n",
            "prev_troca_cabeceira             0\n",
            "troca_cabeceira_hora_anterior    0\n",
            "espera                           0\n",
            "dtype: int64\n",
            "----------------------------------------------------------------------\n",
            "<class 'pandas.core.frame.DataFrame'>\n",
            "Index: 88189 entries, 7 to 211678\n",
            "Data columns (total 10 columns):\n",
            " #   Column                         Non-Null Count  Dtype  \n",
            "---  ------                         --------------  -----  \n",
            " 0   flightid                       88189 non-null  object \n",
            " 1   hora_ref                       88189 non-null  object \n",
            " 2   origem                         88189 non-null  object \n",
            " 3   destino                        88189 non-null  object \n",
            " 4   url_img_satelite               88189 non-null  object \n",
            " 5   metaf                          88189 non-null  object \n",
            " 6   metar                          88189 non-null  object \n",
            " 7   prev_troca_cabeceira           88189 non-null  int64  \n",
            " 8   troca_cabeceira_hora_anterior  88189 non-null  int64  \n",
            " 9   espera                         88189 non-null  float64\n",
            "dtypes: float64(1), int64(2), object(7)\n",
            "memory usage: 7.4+ MB\n",
            "None\n"
          ]
        }
      ]
    },
    {
      "cell_type": "markdown",
      "source": [
        "# **criando novas features**"
      ],
      "metadata": {
        "id": "nsyQNMbXh9-0"
      }
    },
    {
      "cell_type": "markdown",
      "source": [
        "### metar features"
      ],
      "metadata": {
        "id": "gzsdK8CviBJE"
      }
    },
    {
      "cell_type": "code",
      "source": [
        "def WindOrigin(str):\n",
        "  list = str.split()\n",
        "  if len(list) > 3:\n",
        "    return list[0] + list[1] + list[2]\n",
        "  else:\n",
        "    return list[0]\n",
        "\n",
        "def ParseMetar(metarcode,month,year):\n",
        "  try:\n",
        "    report = mt.Metar(metarcode)\n",
        "    return report\n",
        "  except ValueError as e:\n",
        "      print(f\"ValueError: {e}\")\n",
        "      return mt.Metar(metarcode, month=month,year=year)\n",
        "  except mt.ParserError as e:\n",
        "      print(f\"ParserError: {e}\")\n",
        "      return mt.Metar(metarcode, month=month,year=year)"
      ],
      "metadata": {
        "id": "9PXxtxPHlm9b"
      },
      "execution_count": null,
      "outputs": []
    },
    {
      "cell_type": "code",
      "source": [
        "new_metar_features_raw = []\n",
        "\n",
        "for index, row in raw2.iterrows():\n",
        "  # print(index)\n",
        "\n",
        "  metarcode = row['metar']\n",
        "\n",
        "  try:\n",
        "    # print(f'OK')\n",
        "    report = mt.Metar(metarcode)\n",
        "  except mt.ParserError:\n",
        "    # print(index)\n",
        "    # print(f\"Invalid day format in METAR code: {metarcode}\")\n",
        "    report =  np.nan\n",
        "\n",
        "  if report is not np.nan:\n",
        "    try:\n",
        "      # print(report)\n",
        "        metar_infos = [\n",
        "            int(str(report.wind_speed).split()[0]),\n",
        "            str(report.wind_dir).split()[0],\n",
        "            # WindOrigin(report.wind()),\n",
        "            int(str(report.vis).split()[-2]),\n",
        "            # report.sky\n",
        "            # 'x'\n",
        "            float(str(report.temp).split()[0]),\n",
        "            float(str(report.dewpt).split()[0]),\n",
        "            float(str(report.press).split()[0])\n",
        "        ]\n",
        "\n",
        "        new_metar_features_raw.append(metar_infos)\n",
        "    except IndexError:\n",
        "        print(report)\n",
        "    except ValueError as e:\n",
        "        # print(f\"ValueError: {e}\")\n",
        "        new_metar_features_raw.append([None,None,None,None,None,None])\n",
        "  else:\n",
        "    # print(f'metar error -> {report}')\n",
        "    new_metar_features_raw.append([None,None,None,None,None,None])\n",
        "\n",
        "print(f'lenght: {len(new_metar_features_raw)}\\n array: {new_metar_features_raw}')"
      ],
      "metadata": {
        "colab": {
          "base_uri": "https://localhost:8080/"
        },
        "id": "aRt7syOZYI4A",
        "outputId": "30c70e20-be82-4080-a0f1-c84a6e037945"
      },
      "execution_count": null,
      "outputs": [
        {
          "output_type": "stream",
          "name": "stderr",
          "text": [
            "IOPub data rate exceeded.\n",
            "The notebook server will temporarily stop sending output\n",
            "to the client in order to avoid crashing it.\n",
            "To change this limit, set the config variable\n",
            "`--NotebookApp.iopub_data_rate_limit`.\n",
            "\n",
            "Current values:\n",
            "NotebookApp.iopub_data_rate_limit=1000000.0 (bytes/sec)\n",
            "NotebookApp.rate_limit_window=3.0 (secs)\n",
            "\n"
          ]
        }
      ]
    },
    {
      "cell_type": "code",
      "source": [
        "print(f'metar column lenght: {len(new_metar_features_raw)}')\n",
        "\n",
        "print(f'raw lenght {len(raw2)}')\n",
        "#gritos internos de felicidade"
      ],
      "metadata": {
        "id": "SYt9WHDhKbWO"
      },
      "execution_count": null,
      "outputs": []
    },
    {
      "cell_type": "code",
      "source": [
        "df_metar_features = pd.DataFrame(new_metar_features_raw,columns=['wind_speed','wind_dir','visibility','temperature','dewpt','pressure'])\n",
        "\n",
        "# df_metar_features.head(3)\n",
        "\n",
        "wind_speed = list(df_metar_features['wind_speed'])\n",
        "wind_dir = list(df_metar_features['wind_dir'])\n",
        "visibility = list(df_metar_features['visibility'])\n",
        "temperature = list(df_metar_features['wind_speed'])\n",
        "dewpt = list(df_metar_features['dewpt'])\n",
        "pressure = list(df_metar_features['pressure'])\n",
        "# print(wind_speed)\n",
        "\n",
        "raw2['wind_speed'] = wind_speed\n",
        "raw2['wind_dir'] = wind_dir\n",
        "raw2['visibility'] = visibility\n",
        "raw2['temperature'] = temperature\n",
        "raw2['dewpt'] = dewpt\n",
        "raw2['pressure'] = pressure\n",
        "\n",
        "raw2.info()"
      ],
      "metadata": {
        "colab": {
          "base_uri": "https://localhost:8080/"
        },
        "id": "jt7i6jPLMhIE",
        "outputId": "1a3a3286-a18d-47c9-8302-596d6335addd"
      },
      "execution_count": null,
      "outputs": [
        {
          "output_type": "stream",
          "name": "stdout",
          "text": [
            "metar column lenght: 88189\n",
            "raw lenght 88189\n",
            "<class 'pandas.core.frame.DataFrame'>\n",
            "Index: 88189 entries, 7 to 211678\n",
            "Data columns (total 16 columns):\n",
            " #   Column                         Non-Null Count  Dtype  \n",
            "---  ------                         --------------  -----  \n",
            " 0   flightid                       88189 non-null  object \n",
            " 1   hora_ref                       88189 non-null  object \n",
            " 2   origem                         88189 non-null  object \n",
            " 3   destino                        88189 non-null  object \n",
            " 4   url_img_satelite               88189 non-null  object \n",
            " 5   metaf                          88189 non-null  object \n",
            " 6   metar                          88189 non-null  object \n",
            " 7   prev_troca_cabeceira           88189 non-null  int64  \n",
            " 8   troca_cabeceira_hora_anterior  88189 non-null  int64  \n",
            " 9   espera                         88189 non-null  float64\n",
            " 10  wind_speed                     88187 non-null  float64\n",
            " 11  wind_dir                       88187 non-null  object \n",
            " 12  visibility                     88187 non-null  float64\n",
            " 13  temperature                    88187 non-null  float64\n",
            " 14  dewpt                          88187 non-null  float64\n",
            " 15  pressure                       88187 non-null  float64\n",
            "dtypes: float64(6), int64(2), object(8)\n",
            "memory usage: 11.4+ MB\n"
          ]
        },
        {
          "output_type": "stream",
          "name": "stderr",
          "text": [
            "<ipython-input-11-e64e7d736e14>:13: SettingWithCopyWarning: \n",
            "A value is trying to be set on a copy of a slice from a DataFrame.\n",
            "Try using .loc[row_indexer,col_indexer] = value instead\n",
            "\n",
            "See the caveats in the documentation: https://pandas.pydata.org/pandas-docs/stable/user_guide/indexing.html#returning-a-view-versus-a-copy\n",
            "  raw2['wind_speed'] = wind_speed\n",
            "<ipython-input-11-e64e7d736e14>:14: SettingWithCopyWarning: \n",
            "A value is trying to be set on a copy of a slice from a DataFrame.\n",
            "Try using .loc[row_indexer,col_indexer] = value instead\n",
            "\n",
            "See the caveats in the documentation: https://pandas.pydata.org/pandas-docs/stable/user_guide/indexing.html#returning-a-view-versus-a-copy\n",
            "  raw2['wind_dir'] = wind_dir\n",
            "<ipython-input-11-e64e7d736e14>:15: SettingWithCopyWarning: \n",
            "A value is trying to be set on a copy of a slice from a DataFrame.\n",
            "Try using .loc[row_indexer,col_indexer] = value instead\n",
            "\n",
            "See the caveats in the documentation: https://pandas.pydata.org/pandas-docs/stable/user_guide/indexing.html#returning-a-view-versus-a-copy\n",
            "  raw2['visibility'] = visibility\n",
            "<ipython-input-11-e64e7d736e14>:16: SettingWithCopyWarning: \n",
            "A value is trying to be set on a copy of a slice from a DataFrame.\n",
            "Try using .loc[row_indexer,col_indexer] = value instead\n",
            "\n",
            "See the caveats in the documentation: https://pandas.pydata.org/pandas-docs/stable/user_guide/indexing.html#returning-a-view-versus-a-copy\n",
            "  raw2['temperature'] = temperature\n",
            "<ipython-input-11-e64e7d736e14>:17: SettingWithCopyWarning: \n",
            "A value is trying to be set on a copy of a slice from a DataFrame.\n",
            "Try using .loc[row_indexer,col_indexer] = value instead\n",
            "\n",
            "See the caveats in the documentation: https://pandas.pydata.org/pandas-docs/stable/user_guide/indexing.html#returning-a-view-versus-a-copy\n",
            "  raw2['dewpt'] = dewpt\n",
            "<ipython-input-11-e64e7d736e14>:18: SettingWithCopyWarning: \n",
            "A value is trying to be set on a copy of a slice from a DataFrame.\n",
            "Try using .loc[row_indexer,col_indexer] = value instead\n",
            "\n",
            "See the caveats in the documentation: https://pandas.pydata.org/pandas-docs/stable/user_guide/indexing.html#returning-a-view-versus-a-copy\n",
            "  raw2['pressure'] = pressure\n"
          ]
        }
      ]
    },
    {
      "cell_type": "markdown",
      "source": [
        "### removendo nulos oriundos da feature metar"
      ],
      "metadata": {
        "id": "eV0TF1_cQINY"
      }
    },
    {
      "cell_type": "code",
      "source": [
        "raw3 = raw2.dropna()\n",
        "print(raw3.isnull().sum())\n",
        "print('-'*70)\n",
        "print(raw3.info())"
      ],
      "metadata": {
        "colab": {
          "base_uri": "https://localhost:8080/"
        },
        "id": "nfNDQGhKQK9A",
        "outputId": "cdd46197-33a2-4f7b-f5c7-df6d9c8cf118"
      },
      "execution_count": null,
      "outputs": [
        {
          "output_type": "stream",
          "name": "stdout",
          "text": [
            "flightid                         0\n",
            "hora_ref                         0\n",
            "origem                           0\n",
            "destino                          0\n",
            "url_img_satelite                 0\n",
            "metaf                            0\n",
            "metar                            0\n",
            "prev_troca_cabeceira             0\n",
            "troca_cabeceira_hora_anterior    0\n",
            "espera                           0\n",
            "wind_speed                       0\n",
            "wind_dir                         0\n",
            "visibility                       0\n",
            "temperature                      0\n",
            "dewpt                            0\n",
            "pressure                         0\n",
            "dtype: int64\n",
            "----------------------------------------------------------------------\n",
            "<class 'pandas.core.frame.DataFrame'>\n",
            "Index: 88187 entries, 7 to 211678\n",
            "Data columns (total 16 columns):\n",
            " #   Column                         Non-Null Count  Dtype  \n",
            "---  ------                         --------------  -----  \n",
            " 0   flightid                       88187 non-null  object \n",
            " 1   hora_ref                       88187 non-null  object \n",
            " 2   origem                         88187 non-null  object \n",
            " 3   destino                        88187 non-null  object \n",
            " 4   url_img_satelite               88187 non-null  object \n",
            " 5   metaf                          88187 non-null  object \n",
            " 6   metar                          88187 non-null  object \n",
            " 7   prev_troca_cabeceira           88187 non-null  int64  \n",
            " 8   troca_cabeceira_hora_anterior  88187 non-null  int64  \n",
            " 9   espera                         88187 non-null  float64\n",
            " 10  wind_speed                     88187 non-null  float64\n",
            " 11  wind_dir                       88187 non-null  object \n",
            " 12  visibility                     88187 non-null  float64\n",
            " 13  temperature                    88187 non-null  float64\n",
            " 14  dewpt                          88187 non-null  float64\n",
            " 15  pressure                       88187 non-null  float64\n",
            "dtypes: float64(6), int64(2), object(8)\n",
            "memory usage: 11.4+ MB\n",
            "None\n"
          ]
        }
      ]
    },
    {
      "cell_type": "markdown",
      "source": [
        "### datetime features"
      ],
      "metadata": {
        "id": "PYnZ_U9KTRu2"
      }
    },
    {
      "cell_type": "code",
      "source": [
        "raw3['hora_ref'] = pd.to_datetime(raw3['hora_ref'])\n",
        "\n",
        "# Create new columns\n",
        "raw3['hour'] = raw3['hora_ref'].dt.hour\n",
        "raw3['year'] = raw3['hora_ref'].dt.year\n",
        "raw3['month'] = raw3['hora_ref'].dt.month\n",
        "raw3['weekday'] = raw3['hora_ref'].dt.strftime('%A')\n",
        "\n",
        "raw3.head(3)"
      ],
      "metadata": {
        "colab": {
          "base_uri": "https://localhost:8080/",
          "height": 1000
        },
        "id": "BWCTqFQzTXkM",
        "outputId": "a690a991-c5d8-4a28-b121-59fc62257c8f"
      },
      "execution_count": null,
      "outputs": [
        {
          "output_type": "stream",
          "name": "stderr",
          "text": [
            "<ipython-input-13-cd010c397120>:1: SettingWithCopyWarning: \n",
            "A value is trying to be set on a copy of a slice from a DataFrame.\n",
            "Try using .loc[row_indexer,col_indexer] = value instead\n",
            "\n",
            "See the caveats in the documentation: https://pandas.pydata.org/pandas-docs/stable/user_guide/indexing.html#returning-a-view-versus-a-copy\n",
            "  raw3['hora_ref'] = pd.to_datetime(raw3['hora_ref'])\n",
            "<ipython-input-13-cd010c397120>:4: SettingWithCopyWarning: \n",
            "A value is trying to be set on a copy of a slice from a DataFrame.\n",
            "Try using .loc[row_indexer,col_indexer] = value instead\n",
            "\n",
            "See the caveats in the documentation: https://pandas.pydata.org/pandas-docs/stable/user_guide/indexing.html#returning-a-view-versus-a-copy\n",
            "  raw3['hour'] = raw3['hora_ref'].dt.hour\n",
            "<ipython-input-13-cd010c397120>:5: SettingWithCopyWarning: \n",
            "A value is trying to be set on a copy of a slice from a DataFrame.\n",
            "Try using .loc[row_indexer,col_indexer] = value instead\n",
            "\n",
            "See the caveats in the documentation: https://pandas.pydata.org/pandas-docs/stable/user_guide/indexing.html#returning-a-view-versus-a-copy\n",
            "  raw3['year'] = raw3['hora_ref'].dt.year\n",
            "<ipython-input-13-cd010c397120>:6: SettingWithCopyWarning: \n",
            "A value is trying to be set on a copy of a slice from a DataFrame.\n",
            "Try using .loc[row_indexer,col_indexer] = value instead\n",
            "\n",
            "See the caveats in the documentation: https://pandas.pydata.org/pandas-docs/stable/user_guide/indexing.html#returning-a-view-versus-a-copy\n",
            "  raw3['month'] = raw3['hora_ref'].dt.month\n",
            "<ipython-input-13-cd010c397120>:7: SettingWithCopyWarning: \n",
            "A value is trying to be set on a copy of a slice from a DataFrame.\n",
            "Try using .loc[row_indexer,col_indexer] = value instead\n",
            "\n",
            "See the caveats in the documentation: https://pandas.pydata.org/pandas-docs/stable/user_guide/indexing.html#returning-a-view-versus-a-copy\n",
            "  raw3['weekday'] = raw3['hora_ref'].dt.strftime('%A')\n"
          ]
        },
        {
          "output_type": "execute_result",
          "data": {
            "text/plain": [
              "                            flightid                  hora_ref origem destino  \\\n",
              "7   2c6941c4b747277aab4dd189fb23e1a4 2022-06-01 01:00:00+00:00   SBRF    SBGR   \n",
              "9   6c995721654348064df0e1b2c3c99bb9 2022-06-01 01:00:00+00:00   SBPA    SBGR   \n",
              "11  1b44026d2959666741d35f4b2e1545a5 2022-06-01 01:00:00+00:00   SBGR    SBGL   \n",
              "\n",
              "                                     url_img_satelite  \\\n",
              "7   http://satelite.cptec.inpe.br/repositoriogoes/...   \n",
              "9   http://satelite.cptec.inpe.br/repositoriogoes/...   \n",
              "11  http://satelite.cptec.inpe.br/repositoriogoes/...   \n",
              "\n",
              "                                                metaf  \\\n",
              "7   METAF SBGR 010100Z  11008KT 1000     BR OVC033...   \n",
              "9   METAF SBGR 010100Z  11008KT 1000     BR OVC033...   \n",
              "11  METAF SBGL 010100Z 02001KT 2000     BR OVC011 ...   \n",
              "\n",
              "                                                metar  prev_troca_cabeceira  \\\n",
              "7   METAR SBGR 010000Z 13005KT 9999 OVC009 16/15 Q...                     0   \n",
              "9   METAR SBGR 010000Z 13005KT 9999 OVC009 16/15 Q...                     0   \n",
              "11  METAR SBGL 010000Z 10002KT 9999 SCT020 BKN040 ...                     0   \n",
              "\n",
              "    troca_cabeceira_hora_anterior  espera  wind_speed wind_dir  visibility  \\\n",
              "7                               0     0.0         5.0      130     10000.0   \n",
              "9                               0     0.0         5.0      130     10000.0   \n",
              "11                              0     0.0         2.0      100     10000.0   \n",
              "\n",
              "    temperature  dewpt  pressure  hour  year  month    weekday  \n",
              "7           5.0   15.0    1019.0     1  2022      6  Wednesday  \n",
              "9           5.0   15.0    1019.0     1  2022      6  Wednesday  \n",
              "11          2.0   20.0    1016.0     1  2022      6  Wednesday  "
            ],
            "text/html": [
              "\n",
              "  <div id=\"df-253a6231-b63f-4ea9-87b0-0f937b557a33\" class=\"colab-df-container\">\n",
              "    <div>\n",
              "<style scoped>\n",
              "    .dataframe tbody tr th:only-of-type {\n",
              "        vertical-align: middle;\n",
              "    }\n",
              "\n",
              "    .dataframe tbody tr th {\n",
              "        vertical-align: top;\n",
              "    }\n",
              "\n",
              "    .dataframe thead th {\n",
              "        text-align: right;\n",
              "    }\n",
              "</style>\n",
              "<table border=\"1\" class=\"dataframe\">\n",
              "  <thead>\n",
              "    <tr style=\"text-align: right;\">\n",
              "      <th></th>\n",
              "      <th>flightid</th>\n",
              "      <th>hora_ref</th>\n",
              "      <th>origem</th>\n",
              "      <th>destino</th>\n",
              "      <th>url_img_satelite</th>\n",
              "      <th>metaf</th>\n",
              "      <th>metar</th>\n",
              "      <th>prev_troca_cabeceira</th>\n",
              "      <th>troca_cabeceira_hora_anterior</th>\n",
              "      <th>espera</th>\n",
              "      <th>wind_speed</th>\n",
              "      <th>wind_dir</th>\n",
              "      <th>visibility</th>\n",
              "      <th>temperature</th>\n",
              "      <th>dewpt</th>\n",
              "      <th>pressure</th>\n",
              "      <th>hour</th>\n",
              "      <th>year</th>\n",
              "      <th>month</th>\n",
              "      <th>weekday</th>\n",
              "    </tr>\n",
              "  </thead>\n",
              "  <tbody>\n",
              "    <tr>\n",
              "      <th>7</th>\n",
              "      <td>2c6941c4b747277aab4dd189fb23e1a4</td>\n",
              "      <td>2022-06-01 01:00:00+00:00</td>\n",
              "      <td>SBRF</td>\n",
              "      <td>SBGR</td>\n",
              "      <td>http://satelite.cptec.inpe.br/repositoriogoes/...</td>\n",
              "      <td>METAF SBGR 010100Z  11008KT 1000     BR OVC033...</td>\n",
              "      <td>METAR SBGR 010000Z 13005KT 9999 OVC009 16/15 Q...</td>\n",
              "      <td>0</td>\n",
              "      <td>0</td>\n",
              "      <td>0.0</td>\n",
              "      <td>5.0</td>\n",
              "      <td>130</td>\n",
              "      <td>10000.0</td>\n",
              "      <td>5.0</td>\n",
              "      <td>15.0</td>\n",
              "      <td>1019.0</td>\n",
              "      <td>1</td>\n",
              "      <td>2022</td>\n",
              "      <td>6</td>\n",
              "      <td>Wednesday</td>\n",
              "    </tr>\n",
              "    <tr>\n",
              "      <th>9</th>\n",
              "      <td>6c995721654348064df0e1b2c3c99bb9</td>\n",
              "      <td>2022-06-01 01:00:00+00:00</td>\n",
              "      <td>SBPA</td>\n",
              "      <td>SBGR</td>\n",
              "      <td>http://satelite.cptec.inpe.br/repositoriogoes/...</td>\n",
              "      <td>METAF SBGR 010100Z  11008KT 1000     BR OVC033...</td>\n",
              "      <td>METAR SBGR 010000Z 13005KT 9999 OVC009 16/15 Q...</td>\n",
              "      <td>0</td>\n",
              "      <td>0</td>\n",
              "      <td>0.0</td>\n",
              "      <td>5.0</td>\n",
              "      <td>130</td>\n",
              "      <td>10000.0</td>\n",
              "      <td>5.0</td>\n",
              "      <td>15.0</td>\n",
              "      <td>1019.0</td>\n",
              "      <td>1</td>\n",
              "      <td>2022</td>\n",
              "      <td>6</td>\n",
              "      <td>Wednesday</td>\n",
              "    </tr>\n",
              "    <tr>\n",
              "      <th>11</th>\n",
              "      <td>1b44026d2959666741d35f4b2e1545a5</td>\n",
              "      <td>2022-06-01 01:00:00+00:00</td>\n",
              "      <td>SBGR</td>\n",
              "      <td>SBGL</td>\n",
              "      <td>http://satelite.cptec.inpe.br/repositoriogoes/...</td>\n",
              "      <td>METAF SBGL 010100Z 02001KT 2000     BR OVC011 ...</td>\n",
              "      <td>METAR SBGL 010000Z 10002KT 9999 SCT020 BKN040 ...</td>\n",
              "      <td>0</td>\n",
              "      <td>0</td>\n",
              "      <td>0.0</td>\n",
              "      <td>2.0</td>\n",
              "      <td>100</td>\n",
              "      <td>10000.0</td>\n",
              "      <td>2.0</td>\n",
              "      <td>20.0</td>\n",
              "      <td>1016.0</td>\n",
              "      <td>1</td>\n",
              "      <td>2022</td>\n",
              "      <td>6</td>\n",
              "      <td>Wednesday</td>\n",
              "    </tr>\n",
              "  </tbody>\n",
              "</table>\n",
              "</div>\n",
              "    <div class=\"colab-df-buttons\">\n",
              "\n",
              "  <div class=\"colab-df-container\">\n",
              "    <button class=\"colab-df-convert\" onclick=\"convertToInteractive('df-253a6231-b63f-4ea9-87b0-0f937b557a33')\"\n",
              "            title=\"Convert this dataframe to an interactive table.\"\n",
              "            style=\"display:none;\">\n",
              "\n",
              "  <svg xmlns=\"http://www.w3.org/2000/svg\" height=\"24px\" viewBox=\"0 -960 960 960\">\n",
              "    <path d=\"M120-120v-720h720v720H120Zm60-500h600v-160H180v160Zm220 220h160v-160H400v160Zm0 220h160v-160H400v160ZM180-400h160v-160H180v160Zm440 0h160v-160H620v160ZM180-180h160v-160H180v160Zm440 0h160v-160H620v160Z\"/>\n",
              "  </svg>\n",
              "    </button>\n",
              "\n",
              "  <style>\n",
              "    .colab-df-container {\n",
              "      display:flex;\n",
              "      gap: 12px;\n",
              "    }\n",
              "\n",
              "    .colab-df-convert {\n",
              "      background-color: #E8F0FE;\n",
              "      border: none;\n",
              "      border-radius: 50%;\n",
              "      cursor: pointer;\n",
              "      display: none;\n",
              "      fill: #1967D2;\n",
              "      height: 32px;\n",
              "      padding: 0 0 0 0;\n",
              "      width: 32px;\n",
              "    }\n",
              "\n",
              "    .colab-df-convert:hover {\n",
              "      background-color: #E2EBFA;\n",
              "      box-shadow: 0px 1px 2px rgba(60, 64, 67, 0.3), 0px 1px 3px 1px rgba(60, 64, 67, 0.15);\n",
              "      fill: #174EA6;\n",
              "    }\n",
              "\n",
              "    .colab-df-buttons div {\n",
              "      margin-bottom: 4px;\n",
              "    }\n",
              "\n",
              "    [theme=dark] .colab-df-convert {\n",
              "      background-color: #3B4455;\n",
              "      fill: #D2E3FC;\n",
              "    }\n",
              "\n",
              "    [theme=dark] .colab-df-convert:hover {\n",
              "      background-color: #434B5C;\n",
              "      box-shadow: 0px 1px 3px 1px rgba(0, 0, 0, 0.15);\n",
              "      filter: drop-shadow(0px 1px 2px rgba(0, 0, 0, 0.3));\n",
              "      fill: #FFFFFF;\n",
              "    }\n",
              "  </style>\n",
              "\n",
              "    <script>\n",
              "      const buttonEl =\n",
              "        document.querySelector('#df-253a6231-b63f-4ea9-87b0-0f937b557a33 button.colab-df-convert');\n",
              "      buttonEl.style.display =\n",
              "        google.colab.kernel.accessAllowed ? 'block' : 'none';\n",
              "\n",
              "      async function convertToInteractive(key) {\n",
              "        const element = document.querySelector('#df-253a6231-b63f-4ea9-87b0-0f937b557a33');\n",
              "        const dataTable =\n",
              "          await google.colab.kernel.invokeFunction('convertToInteractive',\n",
              "                                                    [key], {});\n",
              "        if (!dataTable) return;\n",
              "\n",
              "        const docLinkHtml = 'Like what you see? Visit the ' +\n",
              "          '<a target=\"_blank\" href=https://colab.research.google.com/notebooks/data_table.ipynb>data table notebook</a>'\n",
              "          + ' to learn more about interactive tables.';\n",
              "        element.innerHTML = '';\n",
              "        dataTable['output_type'] = 'display_data';\n",
              "        await google.colab.output.renderOutput(dataTable, element);\n",
              "        const docLink = document.createElement('div');\n",
              "        docLink.innerHTML = docLinkHtml;\n",
              "        element.appendChild(docLink);\n",
              "      }\n",
              "    </script>\n",
              "  </div>\n",
              "\n",
              "\n",
              "<div id=\"df-da44e2c1-d9c4-4b19-8a87-108a22ff0784\">\n",
              "  <button class=\"colab-df-quickchart\" onclick=\"quickchart('df-da44e2c1-d9c4-4b19-8a87-108a22ff0784')\"\n",
              "            title=\"Suggest charts\"\n",
              "            style=\"display:none;\">\n",
              "\n",
              "<svg xmlns=\"http://www.w3.org/2000/svg\" height=\"24px\"viewBox=\"0 0 24 24\"\n",
              "     width=\"24px\">\n",
              "    <g>\n",
              "        <path d=\"M19 3H5c-1.1 0-2 .9-2 2v14c0 1.1.9 2 2 2h14c1.1 0 2-.9 2-2V5c0-1.1-.9-2-2-2zM9 17H7v-7h2v7zm4 0h-2V7h2v10zm4 0h-2v-4h2v4z\"/>\n",
              "    </g>\n",
              "</svg>\n",
              "  </button>\n",
              "\n",
              "<style>\n",
              "  .colab-df-quickchart {\n",
              "      --bg-color: #E8F0FE;\n",
              "      --fill-color: #1967D2;\n",
              "      --hover-bg-color: #E2EBFA;\n",
              "      --hover-fill-color: #174EA6;\n",
              "      --disabled-fill-color: #AAA;\n",
              "      --disabled-bg-color: #DDD;\n",
              "  }\n",
              "\n",
              "  [theme=dark] .colab-df-quickchart {\n",
              "      --bg-color: #3B4455;\n",
              "      --fill-color: #D2E3FC;\n",
              "      --hover-bg-color: #434B5C;\n",
              "      --hover-fill-color: #FFFFFF;\n",
              "      --disabled-bg-color: #3B4455;\n",
              "      --disabled-fill-color: #666;\n",
              "  }\n",
              "\n",
              "  .colab-df-quickchart {\n",
              "    background-color: var(--bg-color);\n",
              "    border: none;\n",
              "    border-radius: 50%;\n",
              "    cursor: pointer;\n",
              "    display: none;\n",
              "    fill: var(--fill-color);\n",
              "    height: 32px;\n",
              "    padding: 0;\n",
              "    width: 32px;\n",
              "  }\n",
              "\n",
              "  .colab-df-quickchart:hover {\n",
              "    background-color: var(--hover-bg-color);\n",
              "    box-shadow: 0 1px 2px rgba(60, 64, 67, 0.3), 0 1px 3px 1px rgba(60, 64, 67, 0.15);\n",
              "    fill: var(--button-hover-fill-color);\n",
              "  }\n",
              "\n",
              "  .colab-df-quickchart-complete:disabled,\n",
              "  .colab-df-quickchart-complete:disabled:hover {\n",
              "    background-color: var(--disabled-bg-color);\n",
              "    fill: var(--disabled-fill-color);\n",
              "    box-shadow: none;\n",
              "  }\n",
              "\n",
              "  .colab-df-spinner {\n",
              "    border: 2px solid var(--fill-color);\n",
              "    border-color: transparent;\n",
              "    border-bottom-color: var(--fill-color);\n",
              "    animation:\n",
              "      spin 1s steps(1) infinite;\n",
              "  }\n",
              "\n",
              "  @keyframes spin {\n",
              "    0% {\n",
              "      border-color: transparent;\n",
              "      border-bottom-color: var(--fill-color);\n",
              "      border-left-color: var(--fill-color);\n",
              "    }\n",
              "    20% {\n",
              "      border-color: transparent;\n",
              "      border-left-color: var(--fill-color);\n",
              "      border-top-color: var(--fill-color);\n",
              "    }\n",
              "    30% {\n",
              "      border-color: transparent;\n",
              "      border-left-color: var(--fill-color);\n",
              "      border-top-color: var(--fill-color);\n",
              "      border-right-color: var(--fill-color);\n",
              "    }\n",
              "    40% {\n",
              "      border-color: transparent;\n",
              "      border-right-color: var(--fill-color);\n",
              "      border-top-color: var(--fill-color);\n",
              "    }\n",
              "    60% {\n",
              "      border-color: transparent;\n",
              "      border-right-color: var(--fill-color);\n",
              "    }\n",
              "    80% {\n",
              "      border-color: transparent;\n",
              "      border-right-color: var(--fill-color);\n",
              "      border-bottom-color: var(--fill-color);\n",
              "    }\n",
              "    90% {\n",
              "      border-color: transparent;\n",
              "      border-bottom-color: var(--fill-color);\n",
              "    }\n",
              "  }\n",
              "</style>\n",
              "\n",
              "  <script>\n",
              "    async function quickchart(key) {\n",
              "      const quickchartButtonEl =\n",
              "        document.querySelector('#' + key + ' button');\n",
              "      quickchartButtonEl.disabled = true;  // To prevent multiple clicks.\n",
              "      quickchartButtonEl.classList.add('colab-df-spinner');\n",
              "      try {\n",
              "        const charts = await google.colab.kernel.invokeFunction(\n",
              "            'suggestCharts', [key], {});\n",
              "      } catch (error) {\n",
              "        console.error('Error during call to suggestCharts:', error);\n",
              "      }\n",
              "      quickchartButtonEl.classList.remove('colab-df-spinner');\n",
              "      quickchartButtonEl.classList.add('colab-df-quickchart-complete');\n",
              "    }\n",
              "    (() => {\n",
              "      let quickchartButtonEl =\n",
              "        document.querySelector('#df-da44e2c1-d9c4-4b19-8a87-108a22ff0784 button');\n",
              "      quickchartButtonEl.style.display =\n",
              "        google.colab.kernel.accessAllowed ? 'block' : 'none';\n",
              "    })();\n",
              "  </script>\n",
              "</div>\n",
              "\n",
              "    </div>\n",
              "  </div>\n"
            ],
            "application/vnd.google.colaboratory.intrinsic+json": {
              "type": "dataframe",
              "variable_name": "raw3",
              "summary": "{\n  \"name\": \"raw3\",\n  \"rows\": 88187,\n  \"fields\": [\n    {\n      \"column\": \"flightid\",\n      \"properties\": {\n        \"dtype\": \"string\",\n        \"num_unique_values\": 88187,\n        \"samples\": [\n          \"b489e3ee2233c8e70ed1d1d3071fc7c5\",\n          \"aba46e9f99b5b904bec3db39660f9e76\",\n          \"b670356cac4ef31c1b6993905ca3d182\"\n        ],\n        \"semantic_type\": \"\",\n        \"description\": \"\"\n      }\n    },\n    {\n      \"column\": \"hora_ref\",\n      \"properties\": {\n        \"dtype\": \"date\",\n        \"min\": \"2022-06-01 01:00:00+00:00\",\n        \"max\": \"2023-02-16 13:00:00+00:00\",\n        \"num_unique_values\": 5391,\n        \"samples\": [\n          \"2023-02-09 01:00:00+00:00\",\n          \"2023-01-01 19:00:00+00:00\",\n          \"2022-11-10 23:00:00+00:00\"\n        ],\n        \"semantic_type\": \"\",\n        \"description\": \"\"\n      }\n    },\n    {\n      \"column\": \"origem\",\n      \"properties\": {\n        \"dtype\": \"category\",\n        \"num_unique_values\": 12,\n        \"samples\": [\n          \"SBRJ\",\n          \"SBFL\",\n          \"SBRF\"\n        ],\n        \"semantic_type\": \"\",\n        \"description\": \"\"\n      }\n    },\n    {\n      \"column\": \"destino\",\n      \"properties\": {\n        \"dtype\": \"category\",\n        \"num_unique_values\": 10,\n        \"samples\": [\n          \"SBFL\",\n          \"SBGL\",\n          \"SBPA\"\n        ],\n        \"semantic_type\": \"\",\n        \"description\": \"\"\n      }\n    },\n    {\n      \"column\": \"url_img_satelite\",\n      \"properties\": {\n        \"dtype\": \"category\",\n        \"num_unique_values\": 5391,\n        \"samples\": [\n          \"http://satelite.cptec.inpe.br/repositoriogoes/goes16/goes16_web/ams_ret_ch11_baixa/2023/02/S11635384_202302090100.jpg\",\n          \"http://satelite.cptec.inpe.br/repositoriogoes/goes16/goes16_web/ams_ret_ch11_baixa/2023/01/S11635384_202301011900.jpg\",\n          \"http://satelite.cptec.inpe.br/repositoriogoes/goes16/goes16_web/ams_ret_ch11_baixa/2022/11/S11635384_202211102300.jpg\"\n        ],\n        \"semantic_type\": \"\",\n        \"description\": \"\"\n      }\n    },\n    {\n      \"column\": \"metaf\",\n      \"properties\": {\n        \"dtype\": \"category\",\n        \"num_unique_values\": 20193,\n        \"samples\": [\n          \"METAF SBGR 171100Z  10004KT 9000       SCT033   19/15 Q1015= \",\n          \"METAF SBSP 122100Z  13011KT 5000  - RABR OVC011   23/20 Q1011= \",\n          \"METAF SBSP 111200Z 02006KT CAVOK 24/16 Q1020= \"\n        ],\n        \"semantic_type\": \"\",\n        \"description\": \"\"\n      }\n    },\n    {\n      \"column\": \"metar\",\n      \"properties\": {\n        \"dtype\": \"category\",\n        \"num_unique_values\": 20194,\n        \"samples\": [\n          \"METAR SBGL 010100Z 09007KT 060V180 9999 SCT035 19/16 Q1022=\",\n          \"METAR SBGL 060000Z 28004KT 9999 FEW020 BKN100 25/22 Q1012=\",\n          \"METAR COR SBGL 111100Z 10003KT 9999 FEW010 SCT012 25/22 Q1019=\"\n        ],\n        \"semantic_type\": \"\",\n        \"description\": \"\"\n      }\n    },\n    {\n      \"column\": \"prev_troca_cabeceira\",\n      \"properties\": {\n        \"dtype\": \"number\",\n        \"std\": 0,\n        \"min\": 0,\n        \"max\": 1,\n        \"num_unique_values\": 2,\n        \"samples\": [\n          1,\n          0\n        ],\n        \"semantic_type\": \"\",\n        \"description\": \"\"\n      }\n    },\n    {\n      \"column\": \"troca_cabeceira_hora_anterior\",\n      \"properties\": {\n        \"dtype\": \"number\",\n        \"std\": 0,\n        \"min\": 0,\n        \"max\": 1,\n        \"num_unique_values\": 2,\n        \"samples\": [\n          1,\n          0\n        ],\n        \"semantic_type\": \"\",\n        \"description\": \"\"\n      }\n    },\n    {\n      \"column\": \"espera\",\n      \"properties\": {\n        \"dtype\": \"number\",\n        \"std\": 0.14804033214472576,\n        \"min\": 0.0,\n        \"max\": 1.0,\n        \"num_unique_values\": 2,\n        \"samples\": [\n          1.0,\n          0.0\n        ],\n        \"semantic_type\": \"\",\n        \"description\": \"\"\n      }\n    },\n    {\n      \"column\": \"wind_speed\",\n      \"properties\": {\n        \"dtype\": \"number\",\n        \"std\": 3.706780467716979,\n        \"min\": 0.0,\n        \"max\": 27.0,\n        \"num_unique_values\": 27,\n        \"samples\": [\n          0.0,\n          11.0\n        ],\n        \"semantic_type\": \"\",\n        \"description\": \"\"\n      }\n    },\n    {\n      \"column\": \"wind_dir\",\n      \"properties\": {\n        \"dtype\": \"category\",\n        \"num_unique_values\": 38,\n        \"samples\": [\n          \"280\",\n          \"40\"\n        ],\n        \"semantic_type\": \"\",\n        \"description\": \"\"\n      }\n    },\n    {\n      \"column\": \"visibility\",\n      \"properties\": {\n        \"dtype\": \"number\",\n        \"std\": 1579.4218689285549,\n        \"min\": 200.0,\n        \"max\": 10000.0,\n        \"num_unique_values\": 47,\n        \"samples\": [\n          3800.0,\n          4100.0\n        ],\n        \"semantic_type\": \"\",\n        \"description\": \"\"\n      }\n    },\n    {\n      \"column\": \"temperature\",\n      \"properties\": {\n        \"dtype\": \"number\",\n        \"std\": 3.706780467716979,\n        \"min\": 0.0,\n        \"max\": 27.0,\n        \"num_unique_values\": 27,\n        \"samples\": [\n          0.0,\n          11.0\n        ],\n        \"semantic_type\": \"\",\n        \"description\": \"\"\n      }\n    },\n    {\n      \"column\": \"dewpt\",\n      \"properties\": {\n        \"dtype\": \"number\",\n        \"std\": 4.115706327397101,\n        \"min\": -7.0,\n        \"max\": 25.0,\n        \"num_unique_values\": 32,\n        \"samples\": [\n          23.0,\n          4.0\n        ],\n        \"semantic_type\": \"\",\n        \"description\": \"\"\n      }\n    },\n    {\n      \"column\": \"pressure\",\n      \"properties\": {\n        \"dtype\": \"number\",\n        \"std\": 5.414940248957495,\n        \"min\": 101.0,\n        \"max\": 1034.0,\n        \"num_unique_values\": 35,\n        \"samples\": [\n          1002.0,\n          1011.0\n        ],\n        \"semantic_type\": \"\",\n        \"description\": \"\"\n      }\n    },\n    {\n      \"column\": \"hour\",\n      \"properties\": {\n        \"dtype\": \"int32\",\n        \"num_unique_values\": 24,\n        \"samples\": [\n          10,\n          18\n        ],\n        \"semantic_type\": \"\",\n        \"description\": \"\"\n      }\n    },\n    {\n      \"column\": \"year\",\n      \"properties\": {\n        \"dtype\": \"int32\",\n        \"num_unique_values\": 2,\n        \"samples\": [\n          2023,\n          2022\n        ],\n        \"semantic_type\": \"\",\n        \"description\": \"\"\n      }\n    },\n    {\n      \"column\": \"month\",\n      \"properties\": {\n        \"dtype\": \"int32\",\n        \"num_unique_values\": 9,\n        \"samples\": [\n          1,\n          7\n        ],\n        \"semantic_type\": \"\",\n        \"description\": \"\"\n      }\n    },\n    {\n      \"column\": \"weekday\",\n      \"properties\": {\n        \"dtype\": \"category\",\n        \"num_unique_values\": 7,\n        \"samples\": [\n          \"Wednesday\",\n          \"Thursday\"\n        ],\n        \"semantic_type\": \"\",\n        \"description\": \"\"\n      }\n    }\n  ]\n}"
            }
          },
          "metadata": {},
          "execution_count": 13
        }
      ]
    },
    {
      "cell_type": "markdown",
      "source": [
        "### ponte aérea"
      ],
      "metadata": {
        "id": "yh5ciNPcUvAa"
      }
    },
    {
      "cell_type": "code",
      "source": [
        "raw3['fly_line'] = raw3['origem'] + ' ' + raw3['destino']"
      ],
      "metadata": {
        "colab": {
          "base_uri": "https://localhost:8080/"
        },
        "id": "NizU87g0UuMD",
        "outputId": "74db23d0-8e40-41c1-f483-3d7da25d26d1"
      },
      "execution_count": null,
      "outputs": [
        {
          "output_type": "stream",
          "name": "stderr",
          "text": [
            "<ipython-input-14-f069c1eb7515>:1: SettingWithCopyWarning: \n",
            "A value is trying to be set on a copy of a slice from a DataFrame.\n",
            "Try using .loc[row_indexer,col_indexer] = value instead\n",
            "\n",
            "See the caveats in the documentation: https://pandas.pydata.org/pandas-docs/stable/user_guide/indexing.html#returning-a-view-versus-a-copy\n",
            "  raw3['fly_line'] = raw3['origem'] + ' ' + raw3['destino']\n"
          ]
        }
      ]
    },
    {
      "cell_type": "markdown",
      "source": [
        "### imagem de satélite"
      ],
      "metadata": {
        "id": "ZY1S77IZJanx"
      }
    },
    {
      "cell_type": "code",
      "source": [
        "from PIL import Image\n",
        "import numpy as np\n",
        "import requests\n",
        "from io import BytesIO\n",
        "from IPython.display import display"
      ],
      "metadata": {
        "id": "nwKOqVdSTk9O"
      },
      "execution_count": null,
      "outputs": []
    },
    {
      "cell_type": "code",
      "source": [
        "teste = raw3['url_img_satelite']\n",
        "x = list(teste)\n",
        "url = x[0]\n",
        "\n",
        "response = requests.get(url)\n",
        "print(url)\n",
        "print(response.raise_for_status())\n",
        "\n",
        "# print(response.content)\n",
        "\n",
        "img = Image.open(BytesIO(response.content))\n",
        "\n",
        "# img_array = np.array(img)\n",
        "\n",
        "crop_area = (50,50,100,100)\n",
        "\n",
        "cropped_img = img.crop(crop_area)\n",
        "\n",
        "display(cropped_img)"
      ],
      "metadata": {
        "colab": {
          "base_uri": "https://localhost:8080/",
          "height": 102
        },
        "id": "cqjWatvnJVli",
        "outputId": "978a5dec-3472-4862-e22a-8154cedf0a1c"
      },
      "execution_count": null,
      "outputs": [
        {
          "output_type": "stream",
          "name": "stdout",
          "text": [
            "http://satelite.cptec.inpe.br/repositoriogoes/goes16/goes16_web/ams_ret_ch11_baixa/2022/06/S11635384_202206010100.jpg\n",
            "None\n"
          ]
        },
        {
          "output_type": "display_data",
          "data": {
            "text/plain": [
              "<PIL.Image.Image image mode=RGB size=50x50>"
            ],
            "image/png": "[encoded data removed]"
          },
          "metadata": {}
        }
      ]
    },
    {
      "cell_type": "code",
      "source": [
        "from google.colab import drive\n",
        "drive.mount('/content/drive')"
      ],
      "metadata": {
        "colab": {
          "base_uri": "https://localhost:8080/"
        },
        "id": "oLTDVJ-Xsuel",
        "outputId": "d8358e02-18da-4fc9-b353-8f645d457ca1"
      },
      "execution_count": null,
      "outputs": [
        {
          "output_type": "stream",
          "name": "stdout",
          "text": [
            "Mounted at /content/drive\n"
          ]
        }
      ]
    },
    {
      "cell_type": "markdown",
      "source": [
        "# **análise descritiva**"
      ],
      "metadata": {
        "id": "ZrJqHUPIQgC_"
      }
    },
    {
      "cell_type": "code",
      "source": [
        "raw3.head(3)"
      ],
      "metadata": {
        "colab": {
          "base_uri": "https://localhost:8080/",
          "height": 557
        },
        "id": "BLNdbH01RR3e",
        "outputId": "3368a154-d892-4f09-b7d5-fb8c670c6d5a"
      },
      "execution_count": null,
      "outputs": [
        {
          "output_type": "execute_result",
          "data": {
            "text/plain": [
              "                            flightid                  hora_ref origem destino  \\\n",
              "7   2c6941c4b747277aab4dd189fb23e1a4 2022-06-01 01:00:00+00:00   SBRF    SBGR   \n",
              "9   6c995721654348064df0e1b2c3c99bb9 2022-06-01 01:00:00+00:00   SBPA    SBGR   \n",
              "11  1b44026d2959666741d35f4b2e1545a5 2022-06-01 01:00:00+00:00   SBGR    SBGL   \n",
              "\n",
              "                                     url_img_satelite  \\\n",
              "7   http://satelite.cptec.inpe.br/repositoriogoes/...   \n",
              "9   http://satelite.cptec.inpe.br/repositoriogoes/...   \n",
              "11  http://satelite.cptec.inpe.br/repositoriogoes/...   \n",
              "\n",
              "                                                metaf  \\\n",
              "7   METAF SBGR 010100Z  11008KT 1000     BR OVC033...   \n",
              "9   METAF SBGR 010100Z  11008KT 1000     BR OVC033...   \n",
              "11  METAF SBGL 010100Z 02001KT 2000     BR OVC011 ...   \n",
              "\n",
              "                                                metar  prev_troca_cabeceira  \\\n",
              "7   METAR SBGR 010000Z 13005KT 9999 OVC009 16/15 Q...                     0   \n",
              "9   METAR SBGR 010000Z 13005KT 9999 OVC009 16/15 Q...                     0   \n",
              "11  METAR SBGL 010000Z 10002KT 9999 SCT020 BKN040 ...                     0   \n",
              "\n",
              "    troca_cabeceira_hora_anterior  espera  ...  wind_dir visibility  \\\n",
              "7                               0     0.0  ...       130    10000.0   \n",
              "9                               0     0.0  ...       130    10000.0   \n",
              "11                              0     0.0  ...       100    10000.0   \n",
              "\n",
              "    temperature  dewpt  pressure  hour  year  month    weekday   fly_line  \n",
              "7           5.0   15.0    1019.0     1  2022      6  Wednesday  SBRF SBGR  \n",
              "9           5.0   15.0    1019.0     1  2022      6  Wednesday  SBPA SBGR  \n",
              "11          2.0   20.0    1016.0     1  2022      6  Wednesday  SBGR SBGL  \n",
              "\n",
              "[3 rows x 21 columns]"
            ],
            "text/html": [
              "\n",
              "  <div id=\"df-ec9c8c46-3e67-48ff-ba45-a3ae7c460d31\" class=\"colab-df-container\">\n",
              "    <div>\n",
              "<style scoped>\n",
              "    .dataframe tbody tr th:only-of-type {\n",
              "        vertical-align: middle;\n",
              "    }\n",
              "\n",
              "    .dataframe tbody tr th {\n",
              "        vertical-align: top;\n",
              "    }\n",
              "\n",
              "    .dataframe thead th {\n",
              "        text-align: right;\n",
              "    }\n",
              "</style>\n",
              "<table border=\"1\" class=\"dataframe\">\n",
              "  <thead>\n",
              "    <tr style=\"text-align: right;\">\n",
              "      <th></th>\n",
              "      <th>flightid</th>\n",
              "      <th>hora_ref</th>\n",
              "      <th>origem</th>\n",
              "      <th>destino</th>\n",
              "      <th>url_img_satelite</th>\n",
              "      <th>metaf</th>\n",
              "      <th>metar</th>\n",
              "      <th>prev_troca_cabeceira</th>\n",
              "      <th>troca_cabeceira_hora_anterior</th>\n",
              "      <th>espera</th>\n",
              "      <th>...</th>\n",
              "      <th>wind_dir</th>\n",
              "      <th>visibility</th>\n",
              "      <th>temperature</th>\n",
              "      <th>dewpt</th>\n",
              "      <th>pressure</th>\n",
              "      <th>hour</th>\n",
              "      <th>year</th>\n",
              "      <th>month</th>\n",
              "      <th>weekday</th>\n",
              "      <th>fly_line</th>\n",
              "    </tr>\n",
              "  </thead>\n",
              "  <tbody>\n",
              "    <tr>\n",
              "      <th>7</th>\n",
              "      <td>2c6941c4b747277aab4dd189fb23e1a4</td>\n",
              "      <td>2022-06-01 01:00:00+00:00</td>\n",
              "      <td>SBRF</td>\n",
              "      <td>SBGR</td>\n",
              "      <td>http://satelite.cptec.inpe.br/repositoriogoes/...</td>\n",
              "      <td>METAF SBGR 010100Z  11008KT 1000     BR OVC033...</td>\n",
              "      <td>METAR SBGR 010000Z 13005KT 9999 OVC009 16/15 Q...</td>\n",
              "      <td>0</td>\n",
              "      <td>0</td>\n",
              "      <td>0.0</td>\n",
              "      <td>...</td>\n",
              "      <td>130</td>\n",
              "      <td>10000.0</td>\n",
              "      <td>5.0</td>\n",
              "      <td>15.0</td>\n",
              "      <td>1019.0</td>\n",
              "      <td>1</td>\n",
              "      <td>2022</td>\n",
              "      <td>6</td>\n",
              "      <td>Wednesday</td>\n",
              "      <td>SBRF SBGR</td>\n",
              "    </tr>\n",
              "    <tr>\n",
              "      <th>9</th>\n",
              "      <td>6c995721654348064df0e1b2c3c99bb9</td>\n",
              "      <td>2022-06-01 01:00:00+00:00</td>\n",
              "      <td>SBPA</td>\n",
              "      <td>SBGR</td>\n",
              "      <td>http://satelite.cptec.inpe.br/repositoriogoes/...</td>\n",
              "      <td>METAF SBGR 010100Z  11008KT 1000     BR OVC033...</td>\n",
              "      <td>METAR SBGR 010000Z 13005KT 9999 OVC009 16/15 Q...</td>\n",
              "      <td>0</td>\n",
              "      <td>0</td>\n",
              "      <td>0.0</td>\n",
              "      <td>...</td>\n",
              "      <td>130</td>\n",
              "      <td>10000.0</td>\n",
              "      <td>5.0</td>\n",
              "      <td>15.0</td>\n",
              "      <td>1019.0</td>\n",
              "      <td>1</td>\n",
              "      <td>2022</td>\n",
              "      <td>6</td>\n",
              "      <td>Wednesday</td>\n",
              "      <td>SBPA SBGR</td>\n",
              "    </tr>\n",
              "    <tr>\n",
              "      <th>11</th>\n",
              "      <td>1b44026d2959666741d35f4b2e1545a5</td>\n",
              "      <td>2022-06-01 01:00:00+00:00</td>\n",
              "      <td>SBGR</td>\n",
              "      <td>SBGL</td>\n",
              "      <td>http://satelite.cptec.inpe.br/repositoriogoes/...</td>\n",
              "      <td>METAF SBGL 010100Z 02001KT 2000     BR OVC011 ...</td>\n",
              "      <td>METAR SBGL 010000Z 10002KT 9999 SCT020 BKN040 ...</td>\n",
              "      <td>0</td>\n",
              "      <td>0</td>\n",
              "      <td>0.0</td>\n",
              "      <td>...</td>\n",
              "      <td>100</td>\n",
              "      <td>10000.0</td>\n",
              "      <td>2.0</td>\n",
              "      <td>20.0</td>\n",
              "      <td>1016.0</td>\n",
              "      <td>1</td>\n",
              "      <td>2022</td>\n",
              "      <td>6</td>\n",
              "      <td>Wednesday</td>\n",
              "      <td>SBGR SBGL</td>\n",
              "    </tr>\n",
              "  </tbody>\n",
              "</table>\n",
              "<p>3 rows × 21 columns</p>\n",
              "</div>\n",
              "    <div class=\"colab-df-buttons\">\n",
              "\n",
              "  <div class=\"colab-df-container\">\n",
              "    <button class=\"colab-df-convert\" onclick=\"convertToInteractive('df-ec9c8c46-3e67-48ff-ba45-a3ae7c460d31')\"\n",
              "            title=\"Convert this dataframe to an interactive table.\"\n",
              "            style=\"display:none;\">\n",
              "\n",
              "  <svg xmlns=\"http://www.w3.org/2000/svg\" height=\"24px\" viewBox=\"0 -960 960 960\">\n",
              "    <path d=\"M120-120v-720h720v720H120Zm60-500h600v-160H180v160Zm220 220h160v-160H400v160Zm0 220h160v-160H400v160ZM180-400h160v-160H180v160Zm440 0h160v-160H620v160ZM180-180h160v-160H180v160Zm440 0h160v-160H620v160Z\"/>\n",
              "  </svg>\n",
              "    </button>\n",
              "\n",
              "  <style>\n",
              "    .colab-df-container {\n",
              "      display:flex;\n",
              "      gap: 12px;\n",
              "    }\n",
              "\n",
              "    .colab-df-convert {\n",
              "      background-color: #E8F0FE;\n",
              "      border: none;\n",
              "      border-radius: 50%;\n",
              "      cursor: pointer;\n",
              "      display: none;\n",
              "      fill: #1967D2;\n",
              "      height: 32px;\n",
              "      padding: 0 0 0 0;\n",
              "      width: 32px;\n",
              "    }\n",
              "\n",
              "    .colab-df-convert:hover {\n",
              "      background-color: #E2EBFA;\n",
              "      box-shadow: 0px 1px 2px rgba(60, 64, 67, 0.3), 0px 1px 3px 1px rgba(60, 64, 67, 0.15);\n",
              "      fill: #174EA6;\n",
              "    }\n",
              "\n",
              "    .colab-df-buttons div {\n",
              "      margin-bottom: 4px;\n",
              "    }\n",
              "\n",
              "    [theme=dark] .colab-df-convert {\n",
              "      background-color: #3B4455;\n",
              "      fill: #D2E3FC;\n",
              "    }\n",
              "\n",
              "    [theme=dark] .colab-df-convert:hover {\n",
              "      background-color: #434B5C;\n",
              "      box-shadow: 0px 1px 3px 1px rgba(0, 0, 0, 0.15);\n",
              "      filter: drop-shadow(0px 1px 2px rgba(0, 0, 0, 0.3));\n",
              "      fill: #FFFFFF;\n",
              "    }\n",
              "  </style>\n",
              "\n",
              "    <script>\n",
              "      const buttonEl =\n",
              "        document.querySelector('#df-ec9c8c46-3e67-48ff-ba45-a3ae7c460d31 button.colab-df-convert');\n",
              "      buttonEl.style.display =\n",
              "        google.colab.kernel.accessAllowed ? 'block' : 'none';\n",
              "\n",
              "      async function convertToInteractive(key) {\n",
              "        const element = document.querySelector('#df-ec9c8c46-3e67-48ff-ba45-a3ae7c460d31');\n",
              "        const dataTable =\n",
              "          await google.colab.kernel.invokeFunction('convertToInteractive',\n",
              "                                                    [key], {});\n",
              "        if (!dataTable) return;\n",
              "\n",
              "        const docLinkHtml = 'Like what you see? Visit the ' +\n",
              "          '<a target=\"_blank\" href=https://colab.research.google.com/notebooks/data_table.ipynb>data table notebook</a>'\n",
              "          + ' to learn more about interactive tables.';\n",
              "        element.innerHTML = '';\n",
              "        dataTable['output_type'] = 'display_data';\n",
              "        await google.colab.output.renderOutput(dataTable, element);\n",
              "        const docLink = document.createElement('div');\n",
              "        docLink.innerHTML = docLinkHtml;\n",
              "        element.appendChild(docLink);\n",
              "      }\n",
              "    </script>\n",
              "  </div>\n",
              "\n",
              "\n",
              "<div id=\"df-92f28cfd-36d1-4bfb-bfa5-34fd0417f1a0\">\n",
              "  <button class=\"colab-df-quickchart\" onclick=\"quickchart('df-92f28cfd-36d1-4bfb-bfa5-34fd0417f1a0')\"\n",
              "            title=\"Suggest charts\"\n",
              "            style=\"display:none;\">\n",
              "\n",
              "<svg xmlns=\"http://www.w3.org/2000/svg\" height=\"24px\"viewBox=\"0 0 24 24\"\n",
              "     width=\"24px\">\n",
              "    <g>\n",
              "        <path d=\"M19 3H5c-1.1 0-2 .9-2 2v14c0 1.1.9 2 2 2h14c1.1 0 2-.9 2-2V5c0-1.1-.9-2-2-2zM9 17H7v-7h2v7zm4 0h-2V7h2v10zm4 0h-2v-4h2v4z\"/>\n",
              "    </g>\n",
              "</svg>\n",
              "  </button>\n",
              "\n",
              "<style>\n",
              "  .colab-df-quickchart {\n",
              "      --bg-color: #E8F0FE;\n",
              "      --fill-color: #1967D2;\n",
              "      --hover-bg-color: #E2EBFA;\n",
              "      --hover-fill-color: #174EA6;\n",
              "      --disabled-fill-color: #AAA;\n",
              "      --disabled-bg-color: #DDD;\n",
              "  }\n",
              "\n",
              "  [theme=dark] .colab-df-quickchart {\n",
              "      --bg-color: #3B4455;\n",
              "      --fill-color: #D2E3FC;\n",
              "      --hover-bg-color: #434B5C;\n",
              "      --hover-fill-color: #FFFFFF;\n",
              "      --disabled-bg-color: #3B4455;\n",
              "      --disabled-fill-color: #666;\n",
              "  }\n",
              "\n",
              "  .colab-df-quickchart {\n",
              "    background-color: var(--bg-color);\n",
              "    border: none;\n",
              "    border-radius: 50%;\n",
              "    cursor: pointer;\n",
              "    display: none;\n",
              "    fill: var(--fill-color);\n",
              "    height: 32px;\n",
              "    padding: 0;\n",
              "    width: 32px;\n",
              "  }\n",
              "\n",
              "  .colab-df-quickchart:hover {\n",
              "    background-color: var(--hover-bg-color);\n",
              "    box-shadow: 0 1px 2px rgba(60, 64, 67, 0.3), 0 1px 3px 1px rgba(60, 64, 67, 0.15);\n",
              "    fill: var(--button-hover-fill-color);\n",
              "  }\n",
              "\n",
              "  .colab-df-quickchart-complete:disabled,\n",
              "  .colab-df-quickchart-complete:disabled:hover {\n",
              "    background-color: var(--disabled-bg-color);\n",
              "    fill: var(--disabled-fill-color);\n",
              "    box-shadow: none;\n",
              "  }\n",
              "\n",
              "  .colab-df-spinner {\n",
              "    border: 2px solid var(--fill-color);\n",
              "    border-color: transparent;\n",
              "    border-bottom-color: var(--fill-color);\n",
              "    animation:\n",
              "      spin 1s steps(1) infinite;\n",
              "  }\n",
              "\n",
              "  @keyframes spin {\n",
              "    0% {\n",
              "      border-color: transparent;\n",
              "      border-bottom-color: var(--fill-color);\n",
              "      border-left-color: var(--fill-color);\n",
              "    }\n",
              "    20% {\n",
              "      border-color: transparent;\n",
              "      border-left-color: var(--fill-color);\n",
              "      border-top-color: var(--fill-color);\n",
              "    }\n",
              "    30% {\n",
              "      border-color: transparent;\n",
              "      border-left-color: var(--fill-color);\n",
              "      border-top-color: var(--fill-color);\n",
              "      border-right-color: var(--fill-color);\n",
              "    }\n",
              "    40% {\n",
              "      border-color: transparent;\n",
              "      border-right-color: var(--fill-color);\n",
              "      border-top-color: var(--fill-color);\n",
              "    }\n",
              "    60% {\n",
              "      border-color: transparent;\n",
              "      border-right-color: var(--fill-color);\n",
              "    }\n",
              "    80% {\n",
              "      border-color: transparent;\n",
              "      border-right-color: var(--fill-color);\n",
              "      border-bottom-color: var(--fill-color);\n",
              "    }\n",
              "    90% {\n",
              "      border-color: transparent;\n",
              "      border-bottom-color: var(--fill-color);\n",
              "    }\n",
              "  }\n",
              "</style>\n",
              "\n",
              "  <script>\n",
              "    async function quickchart(key) {\n",
              "      const quickchartButtonEl =\n",
              "        document.querySelector('#' + key + ' button');\n",
              "      quickchartButtonEl.disabled = true;  // To prevent multiple clicks.\n",
              "      quickchartButtonEl.classList.add('colab-df-spinner');\n",
              "      try {\n",
              "        const charts = await google.colab.kernel.invokeFunction(\n",
              "            'suggestCharts', [key], {});\n",
              "      } catch (error) {\n",
              "        console.error('Error during call to suggestCharts:', error);\n",
              "      }\n",
              "      quickchartButtonEl.classList.remove('colab-df-spinner');\n",
              "      quickchartButtonEl.classList.add('colab-df-quickchart-complete');\n",
              "    }\n",
              "    (() => {\n",
              "      let quickchartButtonEl =\n",
              "        document.querySelector('#df-92f28cfd-36d1-4bfb-bfa5-34fd0417f1a0 button');\n",
              "      quickchartButtonEl.style.display =\n",
              "        google.colab.kernel.accessAllowed ? 'block' : 'none';\n",
              "    })();\n",
              "  </script>\n",
              "</div>\n",
              "\n",
              "    </div>\n",
              "  </div>\n"
            ],
            "application/vnd.google.colaboratory.intrinsic+json": {
              "type": "dataframe",
              "variable_name": "raw3"
            }
          },
          "metadata": {},
          "execution_count": 19
        }
      ]
    },
    {
      "cell_type": "markdown",
      "source": [
        "### removendo features"
      ],
      "metadata": {
        "id": "dKa5ZAL9Qj-v"
      }
    },
    {
      "cell_type": "code",
      "source": [
        "features = raw3.drop(labels=['flightid','url_img_satelite','metaf','metar','hora_ref','origem','destino','espera'], axis=1)\n",
        "columns_names = features.columns.values\n",
        "features.head(3)"
      ],
      "metadata": {
        "colab": {
          "base_uri": "https://localhost:8080/",
          "height": 216
        },
        "id": "da6ZKxUNRId5",
        "outputId": "0a976d36-d86a-4972-e0cd-3ba1d48ea2d0"
      },
      "execution_count": null,
      "outputs": [
        {
          "output_type": "execute_result",
          "data": {
            "text/plain": [
              "    prev_troca_cabeceira  troca_cabeceira_hora_anterior  wind_speed wind_dir  \\\n",
              "7                      0                              0         5.0      130   \n",
              "9                      0                              0         5.0      130   \n",
              "11                     0                              0         2.0      100   \n",
              "\n",
              "    visibility  temperature  dewpt  pressure  hour  year  month    weekday  \\\n",
              "7      10000.0          5.0   15.0    1019.0     1  2022      6  Wednesday   \n",
              "9      10000.0          5.0   15.0    1019.0     1  2022      6  Wednesday   \n",
              "11     10000.0          2.0   20.0    1016.0     1  2022      6  Wednesday   \n",
              "\n",
              "     fly_line  \n",
              "7   SBRF SBGR  \n",
              "9   SBPA SBGR  \n",
              "11  SBGR SBGL  "
            ],
            "text/html": [
              "\n",
              "  <div id=\"df-f730b8f7-054e-4051-a7ea-a7499fbc0ae5\" class=\"colab-df-container\">\n",
              "    <div>\n",
              "<style scoped>\n",
              "    .dataframe tbody tr th:only-of-type {\n",
              "        vertical-align: middle;\n",
              "    }\n",
              "\n",
              "    .dataframe tbody tr th {\n",
              "        vertical-align: top;\n",
              "    }\n",
              "\n",
              "    .dataframe thead th {\n",
              "        text-align: right;\n",
              "    }\n",
              "</style>\n",
              "<table border=\"1\" class=\"dataframe\">\n",
              "  <thead>\n",
              "    <tr style=\"text-align: right;\">\n",
              "      <th></th>\n",
              "      <th>prev_troca_cabeceira</th>\n",
              "      <th>troca_cabeceira_hora_anterior</th>\n",
              "      <th>wind_speed</th>\n",
              "      <th>wind_dir</th>\n",
              "      <th>visibility</th>\n",
              "      <th>temperature</th>\n",
              "      <th>dewpt</th>\n",
              "      <th>pressure</th>\n",
              "      <th>hour</th>\n",
              "      <th>year</th>\n",
              "      <th>month</th>\n",
              "      <th>weekday</th>\n",
              "      <th>fly_line</th>\n",
              "    </tr>\n",
              "  </thead>\n",
              "  <tbody>\n",
              "    <tr>\n",
              "      <th>7</th>\n",
              "      <td>0</td>\n",
              "      <td>0</td>\n",
              "      <td>5.0</td>\n",
              "      <td>130</td>\n",
              "      <td>10000.0</td>\n",
              "      <td>5.0</td>\n",
              "      <td>15.0</td>\n",
              "      <td>1019.0</td>\n",
              "      <td>1</td>\n",
              "      <td>2022</td>\n",
              "      <td>6</td>\n",
              "      <td>Wednesday</td>\n",
              "      <td>SBRF SBGR</td>\n",
              "    </tr>\n",
              "    <tr>\n",
              "      <th>9</th>\n",
              "      <td>0</td>\n",
              "      <td>0</td>\n",
              "      <td>5.0</td>\n",
              "      <td>130</td>\n",
              "      <td>10000.0</td>\n",
              "      <td>5.0</td>\n",
              "      <td>15.0</td>\n",
              "      <td>1019.0</td>\n",
              "      <td>1</td>\n",
              "      <td>2022</td>\n",
              "      <td>6</td>\n",
              "      <td>Wednesday</td>\n",
              "      <td>SBPA SBGR</td>\n",
              "    </tr>\n",
              "    <tr>\n",
              "      <th>11</th>\n",
              "      <td>0</td>\n",
              "      <td>0</td>\n",
              "      <td>2.0</td>\n",
              "      <td>100</td>\n",
              "      <td>10000.0</td>\n",
              "      <td>2.0</td>\n",
              "      <td>20.0</td>\n",
              "      <td>1016.0</td>\n",
              "      <td>1</td>\n",
              "      <td>2022</td>\n",
              "      <td>6</td>\n",
              "      <td>Wednesday</td>\n",
              "      <td>SBGR SBGL</td>\n",
              "    </tr>\n",
              "  </tbody>\n",
              "</table>\n",
              "</div>\n",
              "    <div class=\"colab-df-buttons\">\n",
              "\n",
              "  <div class=\"colab-df-container\">\n",
              "    <button class=\"colab-df-convert\" onclick=\"convertToInteractive('df-f730b8f7-054e-4051-a7ea-a7499fbc0ae5')\"\n",
              "            title=\"Convert this dataframe to an interactive table.\"\n",
              "            style=\"display:none;\">\n",
              "\n",
              "  <svg xmlns=\"http://www.w3.org/2000/svg\" height=\"24px\" viewBox=\"0 -960 960 960\">\n",
              "    <path d=\"M120-120v-720h720v720H120Zm60-500h600v-160H180v160Zm220 220h160v-160H400v160Zm0 220h160v-160H400v160ZM180-400h160v-160H180v160Zm440 0h160v-160H620v160ZM180-180h160v-160H180v160Zm440 0h160v-160H620v160Z\"/>\n",
              "  </svg>\n",
              "    </button>\n",
              "\n",
              "  <style>\n",
              "    .colab-df-container {\n",
              "      display:flex;\n",
              "      gap: 12px;\n",
              "    }\n",
              "\n",
              "    .colab-df-convert {\n",
              "      background-color: #E8F0FE;\n",
              "      border: none;\n",
              "      border-radius: 50%;\n",
              "      cursor: pointer;\n",
              "      display: none;\n",
              "      fill: #1967D2;\n",
              "      height: 32px;\n",
              "      padding: 0 0 0 0;\n",
              "      width: 32px;\n",
              "    }\n",
              "\n",
              "    .colab-df-convert:hover {\n",
              "      background-color: #E2EBFA;\n",
              "      box-shadow: 0px 1px 2px rgba(60, 64, 67, 0.3), 0px 1px 3px 1px rgba(60, 64, 67, 0.15);\n",
              "      fill: #174EA6;\n",
              "    }\n",
              "\n",
              "    .colab-df-buttons div {\n",
              "      margin-bottom: 4px;\n",
              "    }\n",
              "\n",
              "    [theme=dark] .colab-df-convert {\n",
              "      background-color: #3B4455;\n",
              "      fill: #D2E3FC;\n",
              "    }\n",
              "\n",
              "    [theme=dark] .colab-df-convert:hover {\n",
              "      background-color: #434B5C;\n",
              "      box-shadow: 0px 1px 3px 1px rgba(0, 0, 0, 0.15);\n",
              "      filter: drop-shadow(0px 1px 2px rgba(0, 0, 0, 0.3));\n",
              "      fill: #FFFFFF;\n",
              "    }\n",
              "  </style>\n",
              "\n",
              "    <script>\n",
              "      const buttonEl =\n",
              "        document.querySelector('#df-f730b8f7-054e-4051-a7ea-a7499fbc0ae5 button.colab-df-convert');\n",
              "      buttonEl.style.display =\n",
              "        google.colab.kernel.accessAllowed ? 'block' : 'none';\n",
              "\n",
              "      async function convertToInteractive(key) {\n",
              "        const element = document.querySelector('#df-f730b8f7-054e-4051-a7ea-a7499fbc0ae5');\n",
              "        const dataTable =\n",
              "          await google.colab.kernel.invokeFunction('convertToInteractive',\n",
              "                                                    [key], {});\n",
              "        if (!dataTable) return;\n",
              "\n",
              "        const docLinkHtml = 'Like what you see? Visit the ' +\n",
              "          '<a target=\"_blank\" href=https://colab.research.google.com/notebooks/data_table.ipynb>data table notebook</a>'\n",
              "          + ' to learn more about interactive tables.';\n",
              "        element.innerHTML = '';\n",
              "        dataTable['output_type'] = 'display_data';\n",
              "        await google.colab.output.renderOutput(dataTable, element);\n",
              "        const docLink = document.createElement('div');\n",
              "        docLink.innerHTML = docLinkHtml;\n",
              "        element.appendChild(docLink);\n",
              "      }\n",
              "    </script>\n",
              "  </div>\n",
              "\n",
              "\n",
              "<div id=\"df-d58be4b3-9515-4220-b44f-5d41a55a4a15\">\n",
              "  <button class=\"colab-df-quickchart\" onclick=\"quickchart('df-d58be4b3-9515-4220-b44f-5d41a55a4a15')\"\n",
              "            title=\"Suggest charts\"\n",
              "            style=\"display:none;\">\n",
              "\n",
              "<svg xmlns=\"http://www.w3.org/2000/svg\" height=\"24px\"viewBox=\"0 0 24 24\"\n",
              "     width=\"24px\">\n",
              "    <g>\n",
              "        <path d=\"M19 3H5c-1.1 0-2 .9-2 2v14c0 1.1.9 2 2 2h14c1.1 0 2-.9 2-2V5c0-1.1-.9-2-2-2zM9 17H7v-7h2v7zm4 0h-2V7h2v10zm4 0h-2v-4h2v4z\"/>\n",
              "    </g>\n",
              "</svg>\n",
              "  </button>\n",
              "\n",
              "<style>\n",
              "  .colab-df-quickchart {\n",
              "      --bg-color: #E8F0FE;\n",
              "      --fill-color: #1967D2;\n",
              "      --hover-bg-color: #E2EBFA;\n",
              "      --hover-fill-color: #174EA6;\n",
              "      --disabled-fill-color: #AAA;\n",
              "      --disabled-bg-color: #DDD;\n",
              "  }\n",
              "\n",
              "  [theme=dark] .colab-df-quickchart {\n",
              "      --bg-color: #3B4455;\n",
              "      --fill-color: #D2E3FC;\n",
              "      --hover-bg-color: #434B5C;\n",
              "      --hover-fill-color: #FFFFFF;\n",
              "      --disabled-bg-color: #3B4455;\n",
              "      --disabled-fill-color: #666;\n",
              "  }\n",
              "\n",
              "  .colab-df-quickchart {\n",
              "    background-color: var(--bg-color);\n",
              "    border: none;\n",
              "    border-radius: 50%;\n",
              "    cursor: pointer;\n",
              "    display: none;\n",
              "    fill: var(--fill-color);\n",
              "    height: 32px;\n",
              "    padding: 0;\n",
              "    width: 32px;\n",
              "  }\n",
              "\n",
              "  .colab-df-quickchart:hover {\n",
              "    background-color: var(--hover-bg-color);\n",
              "    box-shadow: 0 1px 2px rgba(60, 64, 67, 0.3), 0 1px 3px 1px rgba(60, 64, 67, 0.15);\n",
              "    fill: var(--button-hover-fill-color);\n",
              "  }\n",
              "\n",
              "  .colab-df-quickchart-complete:disabled,\n",
              "  .colab-df-quickchart-complete:disabled:hover {\n",
              "    background-color: var(--disabled-bg-color);\n",
              "    fill: var(--disabled-fill-color);\n",
              "    box-shadow: none;\n",
              "  }\n",
              "\n",
              "  .colab-df-spinner {\n",
              "    border: 2px solid var(--fill-color);\n",
              "    border-color: transparent;\n",
              "    border-bottom-color: var(--fill-color);\n",
              "    animation:\n",
              "      spin 1s steps(1) infinite;\n",
              "  }\n",
              "\n",
              "  @keyframes spin {\n",
              "    0% {\n",
              "      border-color: transparent;\n",
              "      border-bottom-color: var(--fill-color);\n",
              "      border-left-color: var(--fill-color);\n",
              "    }\n",
              "    20% {\n",
              "      border-color: transparent;\n",
              "      border-left-color: var(--fill-color);\n",
              "      border-top-color: var(--fill-color);\n",
              "    }\n",
              "    30% {\n",
              "      border-color: transparent;\n",
              "      border-left-color: var(--fill-color);\n",
              "      border-top-color: var(--fill-color);\n",
              "      border-right-color: var(--fill-color);\n",
              "    }\n",
              "    40% {\n",
              "      border-color: transparent;\n",
              "      border-right-color: var(--fill-color);\n",
              "      border-top-color: var(--fill-color);\n",
              "    }\n",
              "    60% {\n",
              "      border-color: transparent;\n",
              "      border-right-color: var(--fill-color);\n",
              "    }\n",
              "    80% {\n",
              "      border-color: transparent;\n",
              "      border-right-color: var(--fill-color);\n",
              "      border-bottom-color: var(--fill-color);\n",
              "    }\n",
              "    90% {\n",
              "      border-color: transparent;\n",
              "      border-bottom-color: var(--fill-color);\n",
              "    }\n",
              "  }\n",
              "</style>\n",
              "\n",
              "  <script>\n",
              "    async function quickchart(key) {\n",
              "      const quickchartButtonEl =\n",
              "        document.querySelector('#' + key + ' button');\n",
              "      quickchartButtonEl.disabled = true;  // To prevent multiple clicks.\n",
              "      quickchartButtonEl.classList.add('colab-df-spinner');\n",
              "      try {\n",
              "        const charts = await google.colab.kernel.invokeFunction(\n",
              "            'suggestCharts', [key], {});\n",
              "      } catch (error) {\n",
              "        console.error('Error during call to suggestCharts:', error);\n",
              "      }\n",
              "      quickchartButtonEl.classList.remove('colab-df-spinner');\n",
              "      quickchartButtonEl.classList.add('colab-df-quickchart-complete');\n",
              "    }\n",
              "    (() => {\n",
              "      let quickchartButtonEl =\n",
              "        document.querySelector('#df-d58be4b3-9515-4220-b44f-5d41a55a4a15 button');\n",
              "      quickchartButtonEl.style.display =\n",
              "        google.colab.kernel.accessAllowed ? 'block' : 'none';\n",
              "    })();\n",
              "  </script>\n",
              "</div>\n",
              "\n",
              "    </div>\n",
              "  </div>\n"
            ],
            "application/vnd.google.colaboratory.intrinsic+json": {
              "type": "dataframe",
              "variable_name": "features",
              "summary": "{\n  \"name\": \"features\",\n  \"rows\": 88187,\n  \"fields\": [\n    {\n      \"column\": \"prev_troca_cabeceira\",\n      \"properties\": {\n        \"dtype\": \"number\",\n        \"std\": 0,\n        \"min\": 0,\n        \"max\": 1,\n        \"num_unique_values\": 2,\n        \"samples\": [\n          1,\n          0\n        ],\n        \"semantic_type\": \"\",\n        \"description\": \"\"\n      }\n    },\n    {\n      \"column\": \"troca_cabeceira_hora_anterior\",\n      \"properties\": {\n        \"dtype\": \"number\",\n        \"std\": 0,\n        \"min\": 0,\n        \"max\": 1,\n        \"num_unique_values\": 2,\n        \"samples\": [\n          1,\n          0\n        ],\n        \"semantic_type\": \"\",\n        \"description\": \"\"\n      }\n    },\n    {\n      \"column\": \"wind_speed\",\n      \"properties\": {\n        \"dtype\": \"number\",\n        \"std\": 3.706780467716979,\n        \"min\": 0.0,\n        \"max\": 27.0,\n        \"num_unique_values\": 27,\n        \"samples\": [\n          0.0,\n          11.0\n        ],\n        \"semantic_type\": \"\",\n        \"description\": \"\"\n      }\n    },\n    {\n      \"column\": \"wind_dir\",\n      \"properties\": {\n        \"dtype\": \"category\",\n        \"num_unique_values\": 38,\n        \"samples\": [\n          \"280\",\n          \"40\"\n        ],\n        \"semantic_type\": \"\",\n        \"description\": \"\"\n      }\n    },\n    {\n      \"column\": \"visibility\",\n      \"properties\": {\n        \"dtype\": \"number\",\n        \"std\": 1579.4218689285549,\n        \"min\": 200.0,\n        \"max\": 10000.0,\n        \"num_unique_values\": 47,\n        \"samples\": [\n          3800.0,\n          4100.0\n        ],\n        \"semantic_type\": \"\",\n        \"description\": \"\"\n      }\n    },\n    {\n      \"column\": \"temperature\",\n      \"properties\": {\n        \"dtype\": \"number\",\n        \"std\": 3.706780467716979,\n        \"min\": 0.0,\n        \"max\": 27.0,\n        \"num_unique_values\": 27,\n        \"samples\": [\n          0.0,\n          11.0\n        ],\n        \"semantic_type\": \"\",\n        \"description\": \"\"\n      }\n    },\n    {\n      \"column\": \"dewpt\",\n      \"properties\": {\n        \"dtype\": \"number\",\n        \"std\": 4.115706327397101,\n        \"min\": -7.0,\n        \"max\": 25.0,\n        \"num_unique_values\": 32,\n        \"samples\": [\n          23.0,\n          4.0\n        ],\n        \"semantic_type\": \"\",\n        \"description\": \"\"\n      }\n    },\n    {\n      \"column\": \"pressure\",\n      \"properties\": {\n        \"dtype\": \"number\",\n        \"std\": 5.414940248957495,\n        \"min\": 101.0,\n        \"max\": 1034.0,\n        \"num_unique_values\": 35,\n        \"samples\": [\n          1002.0,\n          1011.0\n        ],\n        \"semantic_type\": \"\",\n        \"description\": \"\"\n      }\n    },\n    {\n      \"column\": \"hour\",\n      \"properties\": {\n        \"dtype\": \"int32\",\n        \"num_unique_values\": 24,\n        \"samples\": [\n          10,\n          18\n        ],\n        \"semantic_type\": \"\",\n        \"description\": \"\"\n      }\n    },\n    {\n      \"column\": \"year\",\n      \"properties\": {\n        \"dtype\": \"int32\",\n        \"num_unique_values\": 2,\n        \"samples\": [\n          2023,\n          2022\n        ],\n        \"semantic_type\": \"\",\n        \"description\": \"\"\n      }\n    },\n    {\n      \"column\": \"month\",\n      \"properties\": {\n        \"dtype\": \"int32\",\n        \"num_unique_values\": 9,\n        \"samples\": [\n          1,\n          7\n        ],\n        \"semantic_type\": \"\",\n        \"description\": \"\"\n      }\n    },\n    {\n      \"column\": \"weekday\",\n      \"properties\": {\n        \"dtype\": \"category\",\n        \"num_unique_values\": 7,\n        \"samples\": [\n          \"Wednesday\",\n          \"Thursday\"\n        ],\n        \"semantic_type\": \"\",\n        \"description\": \"\"\n      }\n    },\n    {\n      \"column\": \"fly_line\",\n      \"properties\": {\n        \"dtype\": \"category\",\n        \"num_unique_values\": 102,\n        \"samples\": [\n          \"SBSV SBKP\",\n          \"SBRJ SBBR\"\n        ],\n        \"semantic_type\": \"\",\n        \"description\": \"\"\n      }\n    }\n  ]\n}"
            }
          },
          "metadata": {},
          "execution_count": 20
        }
      ]
    },
    {
      "source": [
        "# @title Temperature over time\n",
        "\n",
        "import matplotlib.pyplot as plt\n",
        "plt.plot(features['hour'], features['temperature'])\n",
        "plt.ylabel('Temperature')\n",
        "_ = plt.xlabel('Hour')"
      ],
      "cell_type": "code",
      "execution_count": null,
      "outputs": [
        {
          "output_type": "display_data",
          "data": {
            "text/plain": [
              "<Figure size 640x480 with 1 Axes>"
            ],
            "image/png": "[encoded data removed]"
          },
          "metadata": {}
        }
      ],
      "metadata": {
        "id": "zPPsYDgQ7eV7",
        "outputId": "15b9d19d-50b0-4f96-926f-c49d34b6e280",
        "colab": {
          "base_uri": "https://localhost:8080/",
          "height": 449
        }
      }
    },
    {
      "source": [
        "# @title wind_speed vs visibility\n",
        "\n",
        "from matplotlib import pyplot as plt\n",
        "features.plot(kind='scatter', x='wind_speed', y='visibility', s=32, alpha=.8)\n",
        "plt.gca().spines[['top', 'right',]].set_visible(False)"
      ],
      "cell_type": "code",
      "execution_count": null,
      "outputs": [
        {
          "output_type": "display_data",
          "data": {
            "text/plain": [
              "<Figure size 640x480 with 1 Axes>"
            ],
            "image/png": "[encoded data removed]"
          },
          "metadata": {}
        }
      ],
      "metadata": {
        "cellView": "form",
        "colab": {
          "base_uri": "https://localhost:8080/",
          "height": 450
        },
        "id": "gyNMVYfx7RjF",
        "outputId": "b97976b4-68d8-411b-d758-dd13ba6d94af"
      }
    },
    {
      "source": [
        "# @title year vs wind_speed\n",
        "\n",
        "from matplotlib import pyplot as plt\n",
        "import seaborn as sns\n",
        "def _plot_series(series, series_name, series_index=0):\n",
        "  palette = list(sns.palettes.mpl_palette('Dark2'))\n",
        "  xs = series['year']\n",
        "  ys = series['wind_speed']\n",
        "\n",
        "  plt.plot(xs, ys, label=series_name, color=palette[series_index % len(palette)])\n",
        "\n",
        "fig, ax = plt.subplots(figsize=(10, 5.2), layout='constrained')\n",
        "df_sorted = features.sort_values('year', ascending=True)\n",
        "for i, (series_name, series) in enumerate(df_sorted.groupby('weekday')):\n",
        "  _plot_series(series, series_name, i)\n",
        "  fig.legend(title='weekday', bbox_to_anchor=(1, 1), loc='upper left')\n",
        "sns.despine(fig=fig, ax=ax)\n",
        "plt.xlabel('year')\n",
        "_ = plt.ylabel('wind_speed')"
      ],
      "cell_type": "code",
      "execution_count": null,
      "outputs": [
        {
          "output_type": "display_data",
          "data": {
            "text/plain": [
              "<Figure size 1000x520 with 1 Axes>"
            ],
            "image/png": "[encoded data removed]"
          },
          "metadata": {}
        }
      ],
      "metadata": {
        "cellView": "form",
        "colab": {
          "base_uri": "https://localhost:8080/",
          "height": 548
        },
        "id": "7B-FjREm7IRD",
        "outputId": "bf04a149-c937-413c-ef3a-1690ee0a9e1f"
      }
    },
    {
      "source": [
        "# @title visibility\n",
        "\n",
        "from matplotlib import pyplot as plt\n",
        "features['visibility'].plot(kind='line', figsize=(8, 4), title='visibility')\n",
        "plt.gca().spines[['top', 'right']].set_visible(False)"
      ],
      "cell_type": "code",
      "execution_count": null,
      "outputs": [
        {
          "output_type": "display_data",
          "data": {
            "text/plain": [
              "<Figure size 800x400 with 1 Axes>"
            ],
            "image/png": "[encoded data removed]"
          },
          "metadata": {}
        }
      ],
      "metadata": {
        "cellView": "form",
        "colab": {
          "base_uri": "https://localhost:8080/",
          "height": 391
        },
        "id": "g4zfLvpG638M",
        "outputId": "2e9f06e1-f1ac-473b-9e5e-c1900b8c0918"
      }
    },
    {
      "source": [
        "# @title visibility\n",
        "\n",
        "from matplotlib import pyplot as plt\n",
        "features['visibility'].plot(kind='hist', bins=20, title='visibility')\n",
        "plt.gca().spines[['top', 'right',]].set_visible(False)"
      ],
      "cell_type": "code",
      "execution_count": null,
      "outputs": [
        {
          "output_type": "display_data",
          "data": {
            "text/plain": [
              "<Figure size 640x480 with 1 Axes>"
            ],
            "image/png": "[encoded data removed]"
          },
          "metadata": {}
        }
      ],
      "metadata": {
        "cellView": "form",
        "colab": {
          "base_uri": "https://localhost:8080/",
          "height": 452
        },
        "id": "hdCj47DY6SQ8",
        "outputId": "59a9f068-43f3-4db8-d631-140fa0889074"
      }
    },
    {
      "source": [
        "# @title wind_speed\n",
        "\n",
        "from matplotlib import pyplot as plt\n",
        "features['wind_speed'].plot(kind='hist', bins=20, title='wind_speed')\n",
        "plt.gca().spines[['top', 'right',]].set_visible(False)"
      ],
      "cell_type": "code",
      "execution_count": null,
      "outputs": [
        {
          "output_type": "display_data",
          "data": {
            "text/plain": [
              "<Figure size 640x480 with 1 Axes>"
            ],
            "image/png": "[encoded data removed]"
          },
          "metadata": {}
        }
      ],
      "metadata": {
        "cellView": "form",
        "colab": {
          "base_uri": "https://localhost:8080/",
          "height": 452
        },
        "id": "UXdA249B6Nbt",
        "outputId": "a3312223-9407-4786-ceb8-4de254d81d52"
      }
    },
    {
      "cell_type": "code",
      "source": [
        "sample = raw3['espera']"
      ],
      "metadata": {
        "id": "EXOIJ5S3WT7x"
      },
      "execution_count": null,
      "outputs": []
    },
    {
      "cell_type": "code",
      "source": [
        "sample = LabelEncoder().fit_transform(sample)\n",
        "np.unique(sample)"
      ],
      "metadata": {
        "colab": {
          "base_uri": "https://localhost:8080/"
        },
        "id": "TAcJ4WTGWnwB",
        "outputId": "63fb0825-d992-446d-b692-e95a50eff109"
      },
      "execution_count": null,
      "outputs": [
        {
          "output_type": "execute_result",
          "data": {
            "text/plain": [
              "array([0, 1])"
            ]
          },
          "metadata": {},
          "execution_count": 80
        }
      ]
    },
    {
      "cell_type": "code",
      "source": [
        "features.info()"
      ],
      "metadata": {
        "colab": {
          "base_uri": "https://localhost:8080/"
        },
        "id": "e76ZbaiZWsTJ",
        "outputId": "0eb449d1-79aa-4846-9728-5caa9d89e20c"
      },
      "execution_count": null,
      "outputs": [
        {
          "output_type": "stream",
          "name": "stdout",
          "text": [
            "<class 'pandas.core.frame.DataFrame'>\n",
            "Index: 86295 entries, 7 to 211678\n",
            "Data columns (total 13 columns):\n",
            " #   Column                         Non-Null Count  Dtype  \n",
            "---  ------                         --------------  -----  \n",
            " 0   prev_troca_cabeceira           86295 non-null  int64  \n",
            " 1   troca_cabeceira_hora_anterior  86295 non-null  int64  \n",
            " 2   wind_speed                     86295 non-null  float64\n",
            " 3   wind_dir                       86295 non-null  object \n",
            " 4   visibility                     86295 non-null  float64\n",
            " 5   temperature                    86295 non-null  float64\n",
            " 6   dewpt                          86295 non-null  float64\n",
            " 7   pressure                       86295 non-null  float64\n",
            " 8   hour                           86295 non-null  int32  \n",
            " 9   year                           86295 non-null  int32  \n",
            " 10  month                          86295 non-null  int32  \n",
            " 11  weekday                        86295 non-null  object \n",
            " 12  fly_line                       86295 non-null  object \n",
            "dtypes: float64(5), int32(3), int64(2), object(3)\n",
            "memory usage: 8.2+ MB\n"
          ]
        }
      ]
    },
    {
      "cell_type": "markdown",
      "source": [
        "# **implementando o modelo - KNN**\n",
        "\n",
        "---\n",
        "\n"
      ],
      "metadata": {
        "id": "OuW3FQLPYntq"
      }
    },
    {
      "cell_type": "code",
      "source": [
        "stand_ord = ColumnTransformer(transformers=[\n",
        "    ('categoricas', OrdinalEncoder(), make_column_selector(dtype_include=['object','bool'])),\n",
        "    ('numéricas',StandardScaler(), make_column_selector(dtype_include=['float64','int64','int32']))],\n",
        "    remainder='passthrough',\n",
        "    verbose_feature_names_out= False,)\n",
        "\n",
        "stand_dum = ColumnTransformer(transformers=[\n",
        "    ('categoricas', OneHotEncoder(), make_column_selector(dtype_include=['object','bool'])),\n",
        "    ('numéricas',StandardScaler(), make_column_selector(dtype_include=['float64','int64','int32']))],\n",
        "    remainder='passthrough',\n",
        "    verbose_feature_names_out= False,)\n",
        "\n",
        "norm_ord = ColumnTransformer(transformers=[\n",
        "    ('categoricas', OrdinalEncoder(), make_column_selector(dtype_include=['object','bool'])),\n",
        "    ('numéricas',MinMaxScaler(), make_column_selector(dtype_include=['float64','int64','int32']))],\n",
        "    remainder='passthrough',\n",
        "    verbose_feature_names_out= False,)\n",
        "\n",
        "norm_dum = ColumnTransformer(transformers=[\n",
        "    ('categoricas', OneHotEncoder(), make_column_selector(dtype_include=['object','bool'])),\n",
        "    ('numéricas',MinMaxScaler(), make_column_selector(dtype_include=['float64','int64','int32']))],\n",
        "    remainder='passthrough',\n",
        "    verbose_feature_names_out= False,)"
      ],
      "metadata": {
        "id": "oeZnBuD5W0pR"
      },
      "execution_count": null,
      "outputs": []
    },
    {
      "cell_type": "code",
      "source": [
        "features_stand_ord = pd.DataFrame(stand_ord.fit_transform(features), columns=stand_ord.get_feature_names_out())\n",
        "\n",
        "features_norm_ord = pd.DataFrame(norm_ord.fit_transform(features), columns=norm_ord.get_feature_names_out())"
      ],
      "metadata": {
        "id": "m93zP6rCXUTp"
      },
      "execution_count": null,
      "outputs": []
    },
    {
      "cell_type": "code",
      "source": [
        "features_stand_ord = features_stand_ord[columns_names]\n",
        "\n",
        "features_norm_ord = features_norm_ord[columns_names]"
      ],
      "metadata": {
        "id": "1xoUrx_GX6MD"
      },
      "execution_count": null,
      "outputs": []
    },
    {
      "cell_type": "code",
      "source": [
        "F_so_train, F_so_test, S_so_train, S_so_test = train_test_split(features_stand_ord, sample, random_state=42,test_size=0.30)\n",
        "\n",
        "F_no_train, F_no_test, S_no_train, S_no_test = train_test_split(features_norm_ord, sample, random_state=42,test_size=0.30)"
      ],
      "metadata": {
        "id": "2KvSWd79YY7Q"
      },
      "execution_count": null,
      "outputs": []
    },
    {
      "cell_type": "code",
      "source": [
        "k = 10\n",
        "classifier_knn_1 = KNeighborsClassifier(n_neighbors=k)\n",
        "classifier_knn_2 = KNeighborsClassifier(n_neighbors=k)"
      ],
      "metadata": {
        "id": "oVeN-AivYhdY"
      },
      "execution_count": null,
      "outputs": []
    },
    {
      "cell_type": "code",
      "source": [
        "classifier_knn_1.fit(F_so_train,S_so_train)\n",
        "\n",
        "classifier_knn_2.fit(F_no_train,S_no_train)"
      ],
      "metadata": {
        "colab": {
          "base_uri": "https://localhost:8080/",
          "height": 75
        },
        "id": "v7GXOt5YYiTP",
        "outputId": "ea0045f4-b1c4-4db8-fc63-23fc7ab8df2a"
      },
      "execution_count": null,
      "outputs": [
        {
          "output_type": "execute_result",
          "data": {
            "text/plain": [
              "KNeighborsClassifier(n_neighbors=10)"
            ],
            "text/html": [
              "<style>#sk-container-id-3 {color: black;background-color: white;}#sk-container-id-3 pre{padding: 0;}#sk-container-id-3 div.sk-toggleable {background-color: white;}#sk-container-id-3 label.sk-toggleable__label {cursor: pointer;display: block;width: 100%;margin-bottom: 0;padding: 0.3em;box-sizing: border-box;text-align: center;}#sk-container-id-3 label.sk-toggleable__label-arrow:before {content: \"▸\";float: left;margin-right: 0.25em;color: #696969;}#sk-container-id-3 label.sk-toggleable__label-arrow:hover:before {color: black;}#sk-container-id-3 div.sk-estimator:hover label.sk-toggleable__label-arrow:before {color: black;}#sk-container-id-3 div.sk-toggleable__content {max-height: 0;max-width: 0;overflow: hidden;text-align: left;background-color: #f0f8ff;}#sk-container-id-3 div.sk-toggleable__content pre {margin: 0.2em;color: black;border-radius: 0.25em;background-color: #f0f8ff;}#sk-container-id-3 input.sk-toggleable__control:checked~div.sk-toggleable__content {max-height: 200px;max-width: 100%;overflow: auto;}#sk-container-id-3 input.sk-toggleable__control:checked~label.sk-toggleable__label-arrow:before {content: \"▾\";}#sk-container-id-3 div.sk-estimator input.sk-toggleable__control:checked~label.sk-toggleable__label {background-color: #d4ebff;}#sk-container-id-3 div.sk-label input.sk-toggleable__control:checked~label.sk-toggleable__label {background-color: #d4ebff;}#sk-container-id-3 input.sk-hidden--visually {border: 0;clip: rect(1px 1px 1px 1px);clip: rect(1px, 1px, 1px, 1px);height: 1px;margin: -1px;overflow: hidden;padding: 0;position: absolute;width: 1px;}#sk-container-id-3 div.sk-estimator {font-family: monospace;background-color: #f0f8ff;border: 1px dotted black;border-radius: 0.25em;box-sizing: border-box;margin-bottom: 0.5em;}#sk-container-id-3 div.sk-estimator:hover {background-color: #d4ebff;}#sk-container-id-3 div.sk-parallel-item::after {content: \"\";width: 100%;border-bottom: 1px solid gray;flex-grow: 1;}#sk-container-id-3 div.sk-label:hover label.sk-toggleable__label {background-color: #d4ebff;}#sk-container-id-3 div.sk-serial::before {content: \"\";position: absolute;border-left: 1px solid gray;box-sizing: border-box;top: 0;bottom: 0;left: 50%;z-index: 0;}#sk-container-id-3 div.sk-serial {display: flex;flex-direction: column;align-items: center;background-color: white;padding-right: 0.2em;padding-left: 0.2em;position: relative;}#sk-container-id-3 div.sk-item {position: relative;z-index: 1;}#sk-container-id-3 div.sk-parallel {display: flex;align-items: stretch;justify-content: center;background-color: white;position: relative;}#sk-container-id-3 div.sk-item::before, #sk-container-id-3 div.sk-parallel-item::before {content: \"\";position: absolute;border-left: 1px solid gray;box-sizing: border-box;top: 0;bottom: 0;left: 50%;z-index: -1;}#sk-container-id-3 div.sk-parallel-item {display: flex;flex-direction: column;z-index: 1;position: relative;background-color: white;}#sk-container-id-3 div.sk-parallel-item:first-child::after {align-self: flex-end;width: 50%;}#sk-container-id-3 div.sk-parallel-item:last-child::after {align-self: flex-start;width: 50%;}#sk-container-id-3 div.sk-parallel-item:only-child::after {width: 0;}#sk-container-id-3 div.sk-dashed-wrapped {border: 1px dashed gray;margin: 0 0.4em 0.5em 0.4em;box-sizing: border-box;padding-bottom: 0.4em;background-color: white;}#sk-container-id-3 div.sk-label label {font-family: monospace;font-weight: bold;display: inline-block;line-height: 1.2em;}#sk-container-id-3 div.sk-label-container {text-align: center;}#sk-container-id-3 div.sk-container {/* jupyter's `normalize.less` sets `[hidden] { display: none; }` but bootstrap.min.css set `[hidden] { display: none !important; }` so we also need the `!important` here to be able to override the default hidden behavior on the sphinx rendered scikit-learn.org. See: https://github.com/scikit-learn/scikit-learn/issues/21755 */display: inline-block !important;position: relative;}#sk-container-id-3 div.sk-text-repr-fallback {display: none;}</style><div id=\"sk-container-id-3\" class=\"sk-top-container\"><div class=\"sk-text-repr-fallback\"><pre>KNeighborsClassifier(n_neighbors=10)</pre><b>In a Jupyter environment, please rerun this cell to show the HTML representation or trust the notebook. <br />On GitHub, the HTML representation is unable to render, please try loading this page with nbviewer.org.</b></div><div class=\"sk-container\" hidden><div class=\"sk-item\"><div class=\"sk-estimator sk-toggleable\"><input class=\"sk-toggleable__control sk-hidden--visually\" id=\"sk-estimator-id-3\" type=\"checkbox\" checked><label for=\"sk-estimator-id-3\" class=\"sk-toggleable__label sk-toggleable__label-arrow\">KNeighborsClassifier</label><div class=\"sk-toggleable__content\"><pre>KNeighborsClassifier(n_neighbors=10)</pre></div></div></div></div></div>"
            ]
          },
          "metadata": {},
          "execution_count": 87
        }
      ]
    },
    {
      "cell_type": "code",
      "source": [
        "predict_SO = classifier_knn_1.predict(F_so_test)\n",
        "predict_NO = classifier_knn_2.predict(F_no_test)"
      ],
      "metadata": {
        "id": "FfVg5ZW9Yzgn"
      },
      "execution_count": null,
      "outputs": []
    },
    {
      "cell_type": "markdown",
      "source": [
        "### results"
      ],
      "metadata": {
        "id": "5mA_3Cn-ItMl"
      }
    },
    {
      "cell_type": "code",
      "source": [
        "accuracy_SO = accuracy_score(S_so_test, predict_SO)\n",
        "accuracy_NO = accuracy_score(S_no_test, predict_NO)\n",
        "print(f'Standardization and OrdinalEncoder: {round(accuracy_SO*100,6)}%')\n",
        "print(f'Normalization and OrdinalEncoder: {round(accuracy_NO*100,6)}%')"
      ],
      "metadata": {
        "colab": {
          "base_uri": "https://localhost:8080/"
        },
        "id": "nRcXsRz7Y91P",
        "outputId": "b321f46e-ea0b-4473-80f2-77e5958cfa4f"
      },
      "execution_count": null,
      "outputs": [
        {
          "output_type": "stream",
          "name": "stdout",
          "text": [
            "Standardization and OrdinalEncoder: 97.717177%\n",
            "Normalization and OrdinalEncoder: 97.705589%\n"
          ]
        }
      ]
    },
    {
      "cell_type": "code",
      "source": [
        "confusionMatrix_SO = confusion_matrix(S_so_test,predict_SO)\n",
        "sns.heatmap(confusionMatrix_SO, square=True, annot=True, cbar=True, fmt='d')"
      ],
      "metadata": {
        "colab": {
          "base_uri": "https://localhost:8080/",
          "height": 448
        },
        "id": "ptQi-Nc-ZMRm",
        "outputId": "3e18f1ac-a5a9-4f82-8e86-ecbc7c9188f1"
      },
      "execution_count": null,
      "outputs": [
        {
          "output_type": "execute_result",
          "data": {
            "text/plain": [
              "<Axes: >"
            ]
          },
          "metadata": {},
          "execution_count": 90
        },
        {
          "output_type": "display_data",
          "data": {
            "text/plain": [
              "<Figure size 640x480 with 2 Axes>"
            ],
            "image/png": "[encoded data removed]"
          },
          "metadata": {}
        }
      ]
    },
    {
      "cell_type": "code",
      "source": [
        "metrics = classification_report(S_so_test,predict_SO)\n",
        "print(metrics)"
      ],
      "metadata": {
        "colab": {
          "base_uri": "https://localhost:8080/"
        },
        "id": "9dx0vSNAZRD-",
        "outputId": "e9be1b25-0eed-47a2-e92a-2fd48e1566d3"
      },
      "execution_count": null,
      "outputs": [
        {
          "output_type": "stream",
          "name": "stdout",
          "text": [
            "              precision    recall  f1-score   support\n",
            "\n",
            "           0       0.98      1.00      0.99     25297\n",
            "           1       1.00      0.00      0.00       592\n",
            "\n",
            "    accuracy                           0.98     25889\n",
            "   macro avg       0.99      0.50      0.50     25889\n",
            "weighted avg       0.98      0.98      0.97     25889\n",
            "\n"
          ]
        }
      ]
    },
    {
      "cell_type": "markdown",
      "source": [
        "## qual o melhor valor para K?"
      ],
      "metadata": {
        "id": "zoYb-Ly2I1od"
      }
    },
    {
      "cell_type": "code",
      "source": [
        "train = []\n",
        "test = []\n",
        "\n",
        "ks = range(1,30)\n",
        "\n",
        "for k in ks:\n",
        "  classifier_knn = KNeighborsClassifier(n_neighbors = k)\n",
        "  classifier_knn.fit(F_so_train, S_so_train)\n",
        "  train.append(accuracy_score(S_so_train, classifier_knn.predict(F_so_train)))\n",
        "  test.append(accuracy_score(S_so_test, classifier_knn.predict(F_so_test)))"
      ],
      "metadata": {
        "id": "Dm2G-aEtI4tF"
      },
      "execution_count": null,
      "outputs": []
    },
    {
      "cell_type": "code",
      "source": [
        "plt.plot(ks, train, label = \"Performance Treino\", marker = 'o')\n",
        "plt.plot(ks, test, label = \"Performance Teste\", marker = 'o')\n",
        "plt.xlabel('Valores de k')\n",
        "plt.ylabel('Acurácia')\n",
        "plt.legend()\n",
        "plt.show()"
      ],
      "metadata": {
        "colab": {
          "base_uri": "https://localhost:8080/",
          "height": 449
        },
        "id": "_TJyoLsHI-jH",
        "outputId": "befd9d2e-b8e9-4b45-aaa6-1c425aba65dd"
      },
      "execution_count": null,
      "outputs": [
        {
          "output_type": "display_data",
          "data": {
            "text/plain": [
              "<Figure size 640x480 with 1 Axes>"
            ],
            "image/png": "[encoded data removed]"
          },
          "metadata": {}
        }
      ]
    },
    {
      "cell_type": "code",
      "source": [
        "print(f'Melhor K no Teste: {test.index(max(test))}')\n",
        "print(f'Melhor Acurrácia: {round(max(test)*100,4)}%')\n",
        "#print(test)"
      ],
      "metadata": {
        "colab": {
          "base_uri": "https://localhost:8080/"
        },
        "id": "_2UAWtD7JDQ8",
        "outputId": "15dedb9f-6768-474c-8292-9edd1697625d"
      },
      "execution_count": null,
      "outputs": [
        {
          "output_type": "stream",
          "name": "stdout",
          "text": [
            "Melhor K no Teste: 9\n",
            "Melhor Acurrácia: 97.7172%\n"
          ]
        }
      ]
    },
    {
      "cell_type": "markdown",
      "source": [
        "# **cross validation**"
      ],
      "metadata": {
        "id": "jtYUy1jhJGKc"
      }
    },
    {
      "cell_type": "code",
      "source": [
        "knn = KNeighborsClassifier()\n",
        "\n",
        "params = {'n_neighbors': ks}\n",
        "\n",
        "grid = GridSearchCV(knn, params, cv=5)\n",
        "grid.fit(F_so_train, S_so_train)\n",
        "\n",
        "print(f'Melhor valor de K: {grid.best_params_}')\n",
        "print(f'Melhor classificador: {grid.best_estimator_}')\n",
        "print(f'Melhor score (médio): {round(grid.best_score_*100,4)}%')"
      ],
      "metadata": {
        "colab": {
          "base_uri": "https://localhost:8080/"
        },
        "id": "CLZ93MUDJI8k",
        "outputId": "3d69fffa-f805-4956-959a-bdd8bcdb2218"
      },
      "execution_count": null,
      "outputs": [
        {
          "output_type": "stream",
          "name": "stdout",
          "text": [
            "Melhor valor de K: {'n_neighbors': 10}\n",
            "Melhor classificador: KNeighborsClassifier(n_neighbors=10)\n",
            "Melhor score (médio): 97.8032%\n"
          ]
        }
      ]
    },
    {
      "cell_type": "markdown",
      "source": [
        "# testar besteiras abaixo da linha\n",
        "\n",
        "linha"
      ],
      "metadata": {
        "id": "8EVDim8TQz59"
      }
    },
    {
      "cell_type": "code",
      "source": [
        "for index, row in raw2.iterows:\n",
        "  if ParseMetar(row,2,2024) is not None:\n"
      ],
      "metadata": {
        "id": "D496D0IKW6zq"
      },
      "execution_count": null,
      "outputs": []
    },
    {
      "cell_type": "code",
      "source": [
        "metar_test = raw['metar'][0]\n",
        "\n",
        "print(metar_test)\n",
        "print('-------------')\n",
        "\n",
        "report = mt.Metar(metar_test)\n",
        "print(report)\n",
        "\n",
        "print('-------------')\n",
        "\n",
        "# Parsed information\n",
        "# print(\"Station:\", report.station_id) nao preciso saber daonde a informação vem, premissa que tudo é confiável\n",
        "# print(\"Time:\", report.time) mais relevante o horário do voo do que o horário que informação foi colata\n",
        "\n",
        "speed = int(str(report.wind_speed).split()[0])\n",
        "direction = report.wind_dir\n",
        "# def WindOrigin(str):\n",
        "#   list = str.split()\n",
        "#   return list[0] + list[1] + list[2]\n",
        "origin = WindOrigin(report.wind())\n",
        "# direction_from = report.wind_dir_from - esse valor é o valor debaixo do range que o valor de cima esta\n",
        "print(f'Wind: \\n  Speed: {speed}\\n  Direction to: {direction}\\n  Origin City: {origin}')\n",
        "\n",
        "print(\"Visibility:\", int(str(report.vis).split()[-2]))\n",
        "print(f'Sky Conditions: \\n  Caracteristics: {report.sky[0][0]}\\n  Feets: {int(str(report.sky[0][1]).split()[0])}')\n",
        "\n",
        "print(\"Temperature:\", float(str(report.temp).split()[0]))\n",
        "\n",
        "print(\"Dew point:\",float(str(report.dewpt).split()[0]))\n",
        "\n",
        "print(\"Pressure (hPa):\",float(str(report.press).split()[0]))"
      ],
      "metadata": {
        "id": "lvaAB9RzQwG1"
      },
      "execution_count": null,
      "outputs": []
    },
    {
      "cell_type": "code",
      "source": [
        "code = raw2['metar'][36470]\n",
        "\n",
        "report = mt.Metar(code)\n",
        "print(report.wind())\n",
        "# print([\n",
        "#     int(str(report.wind_speed).split()[0]),\n",
        "#     str(report.wind_dir).split()[0],\n",
        "#     # WindOrigin(report.wind()),\n",
        "#     int(str(report.vis).split()[-2]),\n",
        "#     # report.sky\n",
        "#     # 'x'\n",
        "#     float(str(report.temp).split()[0]),\n",
        "#     float(str(report.dewpt).split()[0]),\n",
        "#     float(str(report.press).split()[0])\n",
        "# ])"
      ],
      "metadata": {
        "colab": {
          "base_uri": "https://localhost:8080/"
        },
        "id": "k0X-fgbmV7Le",
        "outputId": "dc17b2ef-d537-42ed-982a-2952028b3131"
      },
      "execution_count": null,
      "outputs": [
        {
          "output_type": "stream",
          "name": "stdout",
          "text": [
            "ENE to SSE at 6 knots\n"
          ]
        }
      ]
    }
  ]
}